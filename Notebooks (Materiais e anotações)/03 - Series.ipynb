{
 "cells": [
  {
   "cell_type": "markdown",
   "metadata": {},
   "source": [
    "# Series"
   ]
  },
  {
   "cell_type": "code",
   "execution_count": 1,
   "metadata": {
    "tags": []
   },
   "outputs": [],
   "source": [
    "import pandas as pd"
   ]
  },
  {
   "cell_type": "markdown",
   "metadata": {
    "slideshow": {
     "slide_type": "-"
    }
   },
   "source": [
    "## Create a Series Object from a List\n",
    "- A pandas **Series** is a one-dimensional labelled array.\n",
    "- A Series combines the best features of a list and a dictionary.\n",
    "- A Series maintains a single collection of ordered values (i.e. a single column of data).\n",
    "- We can assign each value an identifier, which does not have to *be* unique."
   ]
  },
  {
   "cell_type": "code",
   "execution_count": 2,
   "metadata": {
    "tags": []
   },
   "outputs": [
    {
     "data": {
      "text/plain": [
       "0    Chocolate\n",
       "1        Creme\n",
       "2      Morango\n",
       "3        Manga\n",
       "dtype: object"
      ]
     },
     "execution_count": 2,
     "metadata": {},
     "output_type": "execute_result"
    }
   ],
   "source": [
    "# As listas vão combinar dicionários e listas, sendo uma classe com seus parâmetros para criação de um objeto (como vimos, uma classe é um projeto)\n",
    "# Precisamos de dados para a lista, então vamos declarar\n",
    "sorvete = [\"Chocolate\", \"Creme\", \"Morango\", \"Manga\"]\n",
    "pd.Series(sorvete)\n",
    "# A ordem é exatamente a mesma da lista, porém cada item terá um ID automático (caso não coloquemos)"
   ]
  },
  {
   "cell_type": "code",
   "execution_count": 3,
   "metadata": {
    "tags": []
   },
   "outputs": [
    {
     "data": {
      "text/plain": [
       "0     4\n",
       "1     5\n",
       "2    35\n",
       "3    64\n",
       "dtype: int64"
      ]
     },
     "execution_count": 3,
     "metadata": {},
     "output_type": "execute_result"
    }
   ],
   "source": [
    "loteria = [4, 5, 35, 64]\n",
    "pd.Series(loteria)\n",
    "# Notamos que o tipo de data é específicado nas séries"
   ]
  },
  {
   "cell_type": "code",
   "execution_count": 4,
   "metadata": {
    "tags": []
   },
   "outputs": [
    {
     "data": {
      "text/plain": [
       "0     True\n",
       "1    False\n",
       "2    False\n",
       "3     True\n",
       "dtype: bool"
      ]
     },
     "execution_count": 4,
     "metadata": {},
     "output_type": "execute_result"
    }
   ],
   "source": [
    "registros = [True, False, False, True]\n",
    "pd.Series(registros)"
   ]
  },
  {
   "cell_type": "markdown",
   "metadata": {},
   "source": [
    "## Create a Series Object from a Dictionary"
   ]
  },
  {
   "cell_type": "code",
   "execution_count": 5,
   "metadata": {
    "tags": []
   },
   "outputs": [
    {
     "ename": "SyntaxError",
     "evalue": "invalid syntax (4205932517.py, line 7)",
     "output_type": "error",
     "traceback": [
      "\u001b[1;36m  Cell \u001b[1;32mIn[5], line 7\u001b[1;36m\u001b[0m\n\u001b[1;33m    Atenção a boa prática e identações\u001b[0m\n\u001b[1;37m            ^\u001b[0m\n\u001b[1;31mSyntaxError\u001b[0m\u001b[1;31m:\u001b[0m invalid syntax\n"
     ]
    }
   ],
   "source": [
    "exemplo = {\n",
    "    \"Notebook\": 5000.99,\n",
    "    \"Tela\": 500.54,\n",
    "    \"Mouse\": 100\n",
    "}\n",
    "pd.Series(exemplo)\n",
    "Atenção a boa prática e identações\n",
    "# Aqui teremos uma lista sem índices, uma vez que já há uma chave (id) relacionado ao item em questão, mas ele separará e adequará ele na lista, com os valores (que são os preços no exemplo e as chaves (que são os itens) relacionados, que funcionarão como index e valores de fato\n",
    "# Também é mantida a ordem dos dados que inserimos, ou seja, eles continuam vindo de forma que respeitem listas ou dicionários ordenados\n"
   ]
  },
  {
   "cell_type": "markdown",
   "metadata": {},
   "source": [
    "## Intro to Series Methods\n",
    "- The syntax to invoke a method on any object is `object.method()`.\n",
    "- The `sum` method adds together the **Series'** values.\n",
    "- The `product` method multiplies the **Series'** values.\n",
    "- The `mean` method finds the average of the **Series'** values.\n",
    "- The `std` method finds the standard deviation of the **Series'** values."
   ]
  },
  {
   "cell_type": "code",
   "execution_count": null,
   "metadata": {
    "tags": []
   },
   "outputs": [],
   "source": [
    "# Podemos definir valores de lista diretamente na série\n",
    "# Para podermos utilizar métodos em uma série, temos de referenciar uma variável, pois a instância é criada com o comando e tem de estar relacionada a uma variável\n",
    "precos = pd.Series([5.29, 5.48, 9.48])"
   ]
  },
  {
   "cell_type": "code",
   "execution_count": null,
   "metadata": {
    "tags": []
   },
   "outputs": [],
   "source": [
    "# Com o tab, podemos ver todos os comandos a serem utilizados\n",
    "precos.sum()\n",
    "precos.product()\n",
    "precos.mean()"
   ]
  },
  {
   "cell_type": "markdown",
   "metadata": {},
   "source": [
    "## Intro to Attributes\n",
    "- An **attribute** is a piece of data that lives on an object.\n",
    "- An **attribute** is a fact, a detail, a characteristic of the object.\n",
    "- Access an attribute with `object.attribute` syntax.\n",
    "- The `size` attribute returns a count of the number of values in the **Series**.\n",
    "- The `is_unique` attribute returns True if the **Series** has no duplicate values.\n",
    "- The `values` and `index` attributes return the underlying objects that holds the **Series'** values and index labels."
   ]
  },
  {
   "cell_type": "code",
   "execution_count": null,
   "metadata": {
    "tags": []
   },
   "outputs": [],
   "source": [
    "# Métodos são comandos que damos a um determinado objeto, fazendo uma operação com ele\n",
    "# Um atributo é uma característica que já está no dado, sem necessidade de operação. Ela já é intríseca, como um nome é um atributo do ser humano (estão interligados)\n",
    "moveis = pd.Series([\"Cadeira\", \"Mesa\", \"Armario\", \"Privada\"])"
   ]
  },
  {
   "cell_type": "code",
   "execution_count": null,
   "metadata": {
    "tags": []
   },
   "outputs": [],
   "source": [
    "moveis.size\n",
    "# Vemos que também são apresentados diferentes comandos quando damos tab, alguns deles são os atributos, que não necessitam de parâmetros por serem características, não operações ou mudanças no código, fazem parte dele, não vão operar\n",
    "# Pensamos nos objetos como um carro, que é construído de pequenos atributos, suas peças, já pertencentes a ele. Isso explica tanto os atributos como a prórpia composição da série, que possui seus pequenos itens e tem suas ordens, podendo inclusive ser mensurados"
   ]
  },
  {
   "cell_type": "code",
   "execution_count": null,
   "metadata": {
    "tags": []
   },
   "outputs": [],
   "source": [
    "moveis.is_unique"
   ]
  },
  {
   "cell_type": "code",
   "execution_count": null,
   "metadata": {
    "tags": []
   },
   "outputs": [],
   "source": [
    "moveis.values"
   ]
  },
  {
   "cell_type": "code",
   "execution_count": null,
   "metadata": {
    "tags": []
   },
   "outputs": [],
   "source": [
    "moveis.index"
   ]
  },
  {
   "cell_type": "code",
   "execution_count": null,
   "metadata": {
    "tags": []
   },
   "outputs": [],
   "source": [
    "type(moveis.values)\n",
    "# Caso combinemos métodos de ambas as bibliotecas, o Python tende a demonstrar o caminho do resultado, falando que foi retirado de outra biblioteca e o especificando (como no exemplo, onde especifica a biblioteca e demonstra o valor de nosso código com o caminho especificado"
   ]
  },
  {
   "cell_type": "code",
   "execution_count": null,
   "metadata": {
    "tags": []
   },
   "outputs": [],
   "source": [
    "type(moveis.is_unique)\n",
    "# Tipo é caracterizado como um método por fazer uma operação para verificar os tipos contidos no dado informado, pois os dados podem ser diversos, então não são próprios, ou seja, não são atributos, eles têm de ser analisados para depois serem respondidos"
   ]
  },
  {
   "cell_type": "code",
   "execution_count": null,
   "metadata": {},
   "outputs": [],
   "source": [
    "# Alguns métodos são muito diferentes, como avarage sendo mean, vale a pena pesquisar"
   ]
  },
  {
   "cell_type": "markdown",
   "metadata": {},
   "source": [
    "## Parameters and Arguments\n",
    "- A **parameter** is the name for an expected input to a function/method/class instantiation.\n",
    "- An **argument** is the concrete value we provide for a parameter during invocation.\n",
    "- We can pass arguments either sequentially (based on parameter order) or with explicit parameter names written out.\n",
    "- The first two parameters for the **Series** constructor are `data` and `index`, which represent the values and the index labels."
   ]
  },
  {
   "cell_type": "code",
   "execution_count": null,
   "metadata": {
    "tags": []
   },
   "outputs": [],
   "source": [
    "frutas = [\"Mexerica\",\"Melancia\",\"Tomate\",\"Banana\",\"Maçã\"]\n",
    "dias_semana = [\"Segunda\", \"Terça\", \"Quarta\", \"Quinta\", \"Sexta\"]"
   ]
  },
  {
   "cell_type": "code",
   "execution_count": null,
   "metadata": {
    "tags": []
   },
   "outputs": [],
   "source": [
    "# Para verificar os parâmetros que podemos passar nos métodos (quase tudo com parênteses), utilizamos shift + tab, assim como no excel podemos ver explicação e quais parâmetros passar para modificar ou utilizar o método\n",
    "# Abaixo seguem os parâmetros apresentados para o método, mostrando que podem ser modificados e estão implícitos para serem utilizados, podemos passá-los de acordo com a necessidade\n",
    "# Podemos inclusive definir o index (por exemplo) como uma lista de com a mesma quantidade de valores ou então combinar duas listas com esse meio, pois o index dela vai ser os itens da outra, podemos então externalizar os index (mesmo número de valores)\n",
    "pd.Series(data = frutas, index = dias_semana)\n",
    "pd.Series(frutas, dias_semana)\n",
    "pd.Series(frutas, index = dias_semana)\n",
    "# especificando parâmetros, podemos demonstrar contexto para o código, então é uma boa prática não deixarmos implícitos e sim explícitos, facilitando a leitura do código e verificação dos parâmetros\n",
    "# Além disso, podemos escrever desordenadamente quando explícito\n",
    "# Podemos inclusive combinar as maneiras de escrever"
   ]
  },
  {
   "cell_type": "code",
   "execution_count": null,
   "metadata": {},
   "outputs": [],
   "source": [
    "# Podemos identificar parâmetros sem obrigatoriedade de utilização quando o modelo padrão dele é none, ou seja, se todos forem none, podemos até não utilizar nenhum"
   ]
  },
  {
   "cell_type": "markdown",
   "metadata": {},
   "source": [
    "## Import Series with the pd.read_csv Function\n",
    "- A **CSV** is a plain text file that uses line breaks to separate rows and commas to separate row values.\n",
    "- Pandas ships with many different `read_` functions for different types of files.\n",
    "- The `read_csv` function accepts many different parameters. The first one specifies the file name/path.\n",
    "- The `read_csv` function will import the dataset as a **DataFrame**, a 2-dimensional table.\n",
    "- The `usecols` parameter accepts a list of the column(s) to import.\n",
    "- The `squeeze` method converts a **DataFrame** to a **Series**."
   ]
  },
  {
   "cell_type": "code",
   "execution_count": null,
   "metadata": {
    "tags": []
   },
   "outputs": [],
   "source": [
    "# Facilita deixar os arquivos analisados dentro do mesmo diretório dos notebooks, uma vez que podemos colocar o caminho do arquivo de uma maneira mais simplista\n",
    "# Podemos também personalizar o caminho com /../ ou outros, mas é recomendado sempre utilizarmos caminhos mais simples considerando que os arquivos podem mudar\n",
    "pd.read_csv(\"pokemon.csv\")\n",
    "# Podemos inclusive utilizar o tab para nomes de arquivos quando estamos escrevendo o caminho. Além de questões do método, caso estejamos no lugar correto, ele mostrará os arquivos que podemos utilizar no método também\n",
    "# Dataframes são tabelas multidimensionais em python"
   ]
  },
  {
   "cell_type": "code",
   "execution_count": null,
   "metadata": {
    "tags": []
   },
   "outputs": [],
   "source": [
    "# Diferente das séries, os datasets são bidimensionais, ou seja, precisam de duas referências (horizontal e vertical) para encontrar valores. A série vai precisar apenas do valor horizontal, sendo mais simples nesta consideração\n",
    "# No momento o interesse é trabalharmos com séries, ou seja, procurar os dados com o parâmetro horizontal\n",
    "# Para tal, temos de extrair apenas uma coluna do conjunto de dados, para posteriormente fazermos junções entre diferentes séries (colunas) as relacionando com seus valores e index, contudo, partindo de apenas uma série de valores\n",
    "pd.read_csv(\"pokemon.csv\", usecols=[\"Name\"]).squeeze(\"columns\")\n",
    "pokemon = pd.read_csv(\"pokemon.csv\", usecols=[\"Name\"]).squeeze(\"columns\")\n",
    "# O método squeeze vai nos apresentar uma visão geral da série, com nome, tamanho e tipo, além de uma visualização de lista, mais simplista e no modelo de uma série. Além disso é necessário o parâmetro para adequar a leitura a uma série, pois não comporta a leganda acima da coluna ou index, então adequamos a uma série e então passamos para a série\n",
    "# Logo, temos de passar essa visualização de dataframe para série, para depois considerar uma série, o modelo com legendas é um dataframe (primeiro exemplos) e a série é o exemplo simplificado (squeezed) e temos de estar nele para ser caracterizado como uma\n",
    "# Lembremos que uma vez que o objeto se torna adequado a uma série, ele vira uma série, ou seja, todas as funcionalidades de uma série vão fazer jus a ele, logo, se não declararmos a série como pd.Series(pd.read_csv...) ainda assim consideramos e ele se torna uma série, pois fazemos com que ele tenha os atributos e se adeque no modelo de uma série, podendo ser utilizado assim\n",
    "# No exemplo que citamos, é representada uma série mesmo sem pd.Series(pd.read_csv(\"pokemon.csv\", usecols=[\"Name\"]).squeeze(\"columns\")), pois o objeto já é uma série, então declararmos, já que se enquadra no projeto da classe e é adequado para classificar uma série, acaba sendo redundância, afinal, o objeto já constitui todos os elementos de uma série e já é uma série (provando que é uma redundância) "
   ]
  },
  {
   "cell_type": "code",
   "execution_count": null,
   "metadata": {
    "tags": []
   },
   "outputs": [],
   "source": [
    "pd.read_csv(\"google_stock_price.csv\")"
   ]
  },
  {
   "cell_type": "code",
   "execution_count": null,
   "metadata": {
    "tags": []
   },
   "outputs": [],
   "source": [
    "google = pd.read_csv(\"google_stock_price.csv\", usecols=[\"Price\"]).squeeze(\"columns\")\n",
    "google"
   ]
  },
  {
   "cell_type": "code",
   "execution_count": null,
   "metadata": {
    "tags": []
   },
   "outputs": [],
   "source": [
    "google_serie = pd.Series(pd.read_csv(\"google_stock_price.csv\", usecols=[\"Price\"]).squeeze(\"columns\"))\n",
    "google_serie\n",
    "# Fazendo as adequações, podemos então incluir a leitura a uma série propriamente dita para utilizar os atributos e métodos da série em si, não da leitura, então ela será um objeto da série e poderá ser utilizada como tal"
   ]
  },
  {
   "cell_type": "code",
   "execution_count": null,
   "metadata": {
    "tags": []
   },
   "outputs": [],
   "source": [
    "# Podemos ainda definir o index como sendo uma outra coluna do CSV e para isso não precisamos importar novamente o csv, como em uma leitura pd.Series(importação 1, importação 2)\n",
    "# Daí que fica interessante observarmos as propriedades, pois como a série comporta duas colunas, podemos passar ambas já prontas\n",
    "# Deste modo, como a classe comporta duas características e passamos uma (ela autopreenche), podemos já passar as duas e para isso conseguimos na extração definir uma coluna para index e passamos pronto para a série como ela será\n",
    "# # Fazendo com que tenhamos index e valores, já que ela suporta ambos e podemos passar um, outro ou os dois já formatados\n",
    "# Com isso, podemos fazer com que a série se torne algo semelhante ao dicionário, com chaves e valores diferentes e definidos por nós\n",
    "# Ou seja, podemos personalizar e trazer duas colunas de valores em um objeto que originalmente permitiria uma, fazendo também uma relação e conexão de duas colunas, dois valores e chaves para considerar na pesquisa, utilizar como pesquisa, parâmetros ou então análises\n",
    "# Como em alguns casos não utilizamos o valor em si do index, pode ser interessante e útil fazer essa conexão entre chaves e valores com duas colunas, para que mostremos por exemplo a relação dos registros já em um item mais simples e fazendo uma relação com os registros como seria em um mais complexo como dataframe ou banco de dados (já incluindo a relação neste objeto simples pois um corresponde ao outro como vimos muitas vezes e como acontece nos registros do banco\n",
    "pd.Series(pd.read_csv(\"pokemon.csv\", usecols=[\"Type\", \"Name\"], index_col = [\"Name\"]).squeeze(\"columns\"))"
   ]
  },
  {
   "cell_type": "code",
   "execution_count": null,
   "metadata": {},
   "outputs": [],
   "source": [
    "# É importante também dizer que mesmo quando utilizamos esta forma de representação, conseguimos pesquisar via index numérico, pois o python fará a contagem ordenadamente, então mesmo assim conseguimos utilizar o atributo, mesmo que o index não seja existente ele faz este procedimento pois \"existe internamente\", devemos se adequar e verificar cada caso de uso"
   ]
  },
  {
   "cell_type": "code",
   "execution_count": null,
   "metadata": {},
   "outputs": [],
   "source": []
  },
  {
   "cell_type": "markdown",
   "metadata": {},
   "source": [
    "## The head and tail Methods\n",
    "- The `head` method returns a number of rows from the top/beginning of the `Series`.\n",
    "- The `tail` method returns a number of rows from the bottom/end of the `Series`."
   ]
  },
  {
   "cell_type": "code",
   "execution_count": 1,
   "metadata": {
    "tags": []
   },
   "outputs": [
    {
     "ename": "NameError",
     "evalue": "name 'pd' is not defined",
     "output_type": "error",
     "traceback": [
      "\u001b[1;31m---------------------------------------------------------------------------\u001b[0m",
      "\u001b[1;31mNameError\u001b[0m                                 Traceback (most recent call last)",
      "Cell \u001b[1;32mIn[1], line 1\u001b[0m\n\u001b[1;32m----> 1\u001b[0m google \u001b[38;5;241m=\u001b[39m pd\u001b[38;5;241m.\u001b[39mread_csv(\u001b[38;5;124m\"\u001b[39m\u001b[38;5;124mgoogle_stock_price.csv\u001b[39m\u001b[38;5;124m\"\u001b[39m, usecols\u001b[38;5;241m=\u001b[39m[\u001b[38;5;124m\"\u001b[39m\u001b[38;5;124mPrice\u001b[39m\u001b[38;5;124m\"\u001b[39m])\u001b[38;5;241m.\u001b[39msqueeze(\u001b[38;5;124m\"\u001b[39m\u001b[38;5;124mcolumns\u001b[39m\u001b[38;5;124m\"\u001b[39m)\n\u001b[0;32m      2\u001b[0m pokemon \u001b[38;5;241m=\u001b[39m pd\u001b[38;5;241m.\u001b[39mread_csv(\u001b[38;5;124m\"\u001b[39m\u001b[38;5;124mpokemon.csv\u001b[39m\u001b[38;5;124m\"\u001b[39m, usecols\u001b[38;5;241m=\u001b[39m[\u001b[38;5;124m\"\u001b[39m\u001b[38;5;124mName\u001b[39m\u001b[38;5;124m\"\u001b[39m])\u001b[38;5;241m.\u001b[39msqueeze(\u001b[38;5;124m\"\u001b[39m\u001b[38;5;124mcolumns\u001b[39m\u001b[38;5;124m\"\u001b[39m)\n\u001b[0;32m      3\u001b[0m pokemon\u001b[38;5;241m.\u001b[39mhead()\n",
      "\u001b[1;31mNameError\u001b[0m: name 'pd' is not defined"
     ]
    }
   ],
   "source": [
    "google = pd.read_csv(\"google_stock_price.csv\", usecols=[\"Price\"]).squeeze(\"columns\")\n",
    "pokemon = pd.read_csv(\"pokemon.csv\", usecols=[\"Name\"]).squeeze(\"columns\")\n",
    "pokemon.head()\n",
    "pokemon.head(1)\n",
    "# Utilizamos para obter amostras da série, podemos inclusive verificar quais atributos são possívels (padrão é 5) para seu uso, é uma boa prática começarmos a fazer isso"
   ]
  },
  {
   "cell_type": "code",
   "execution_count": null,
   "metadata": {
    "tags": []
   },
   "outputs": [],
   "source": [
    "google.tail()\n",
    "google.tail(6)\n",
    "google"
   ]
  },
  {
   "cell_type": "code",
   "execution_count": null,
   "metadata": {
    "tags": []
   },
   "outputs": [],
   "source": [
    "# Basicamento um top ou limit do SQL"
   ]
  },
  {
   "cell_type": "markdown",
   "metadata": {},
   "source": [
    "## Passing Series to Python's Built-In Functions\n",
    "- The `len` function returns the length of the **Series**.\n",
    "- The `type` function returns the type of an object.\n",
    "- The `list` function converts the **Series** to a list.\n",
    "- The `dict` function converts the **Series** to a dictionary.\n",
    "- The `sorted` function converts the **Series** to a sorted list.\n",
    "- The `max` function returns the largest value in the **Series**.\n",
    "- The `min` function returns the smalllest value in the **Series**."
   ]
  },
  {
   "cell_type": "code",
   "execution_count": null,
   "metadata": {
    "tags": []
   },
   "outputs": [],
   "source": [
    "google = pd.read_csv(\"google_stock_price.csv\", usecols=[\"Price\"]).squeeze(\"columns\")\n",
    "pokemon = pd.read_csv(\"pokemon.csv\", usecols=[\"Name\"]).squeeze(\"columns\")"
   ]
  },
  {
   "cell_type": "code",
   "execution_count": null,
   "metadata": {
    "tags": []
   },
   "outputs": [],
   "source": [
    "len(google)\n",
    "type(google)\n",
    "list(pokemon) #conversão para listas, já que é apto no formato, sempre devemos pensar que antes de transformar em um \"objeto\", ele tem de satisfazer o projeto, assim como fazemos para google e pokemon\n",
    "sorted(pokemon) #Basicamente podemos utilizar como order\n",
    "max(pokemon)\n",
    "len(max(pokemon)) #Podemos combinar funções para por exemplo saber o tamanho do maior item\n",
    "dict(pokemon)\n",
    "max(google)"
   ]
  },
  {
   "cell_type": "markdown",
   "metadata": {},
   "source": [
    "## Check for Inclusion with Python's in Keyword\n",
    "- The `in` keyword checks if a value exists within an object.\n",
    "- The `in` keyword will look for a value in the **Series's** index.\n",
    "- Use the `index` and `values` attributes to access \"nested\" objects within the **Series**.\n",
    "- Combine the `in` keyword with `values` to search within the **Series's** values."
   ]
  },
  {
   "cell_type": "code",
   "execution_count": null,
   "metadata": {
    "tags": []
   },
   "outputs": [],
   "source": [
    "google = pd.read_csv(\"google_stock_price.csv\", usecols=[\"Price\"]).squeeze(\"columns\")\n",
    "pokemon = pd.read_csv(\"pokemon.csv\", usecols=[\"Name\"]).squeeze(\"columns\")"
   ]
  },
  {
   "cell_type": "code",
   "execution_count": null,
   "metadata": {
    "tags": []
   },
   "outputs": [],
   "source": [
    "# in pode ser utilizada para diversos fins, ela procurará um conjunto dentro do conjunto atual que temos, seja uma string, lista, série etc.\n",
    "\"Bulbasaur\" in pokemon.values # Por padrão o in vai puxar o index, então falará se aquele index existe, podemos fazer com que procure valores ou ambos combinados na lista pela utilização da função\n",
    "\"Pikachu\" in pokemon.values # É como um check"
   ]
  },
  {
   "cell_type": "markdown",
   "metadata": {},
   "source": [
    "## The sort_values Method\n",
    "- The `sort_values` method sorts a **Series** values in order.\n",
    "- By default, pandas applies an ascending sort (smallest to largest).\n",
    "- Customize the sort order with the `ascending` parameter."
   ]
  },
  {
   "cell_type": "code",
   "execution_count": null,
   "metadata": {
    "tags": []
   },
   "outputs": [],
   "source": [
    "google = pd.read_csv(\"google_stock_price.csv\", usecols=[\"Price\"]).squeeze(\"columns\")\n",
    "pokemon = pd.read_csv(\"pokemon.csv\", usecols=[\"Name\"]).squeeze(\"columns\")"
   ]
  },
  {
   "cell_type": "code",
   "execution_count": null,
   "metadata": {
    "tags": []
   },
   "outputs": [],
   "source": [
    "google.sort_index(ascending=False)\n",
    "google.sort_values(ascending=False)\n",
    "# Aqui vemos um exemplo de order by, por exemplo, contudo, no python devemos observar os atributos dos métodos para então conseguir lidar\n",
    "# Muitos deles serão false ou true, não necessitando de desc por exemplo, ou seja, se o ascending é true como padrão, basta definirmos como false que será o contrário, irá considerar o descendente\n",
    "# Isso se aplica para outros parâmetros que veremos e devemos ter em mente, pois em python podemos definir atributos como true e false e algumas características mudam assim, sem precisar especificar como em SQL (por exemplo), então primeiro observamos o método e depois mudamos os parâmetros de acordo com a linguagem e regras"
   ]
  },
  {
   "cell_type": "code",
   "execution_count": null,
   "metadata": {
    "tags": []
   },
   "outputs": [],
   "source": [
    "# Podemos combinar métodos para por exemplo conseguir o top 5, top 10 e outras amostras menores e ordenadas, assim como em SQL. Combinamos para poder analisar amostragens específicas e personalizadas\n",
    "pokemon.sort_values(ascending=False).head()"
   ]
  },
  {
   "cell_type": "markdown",
   "metadata": {},
   "source": [
    "## The sort_index Method\n",
    "- The `sort_index` method sorts a **Series** by its index.\n",
    "- The `sort_index` method also accepts an `ascending` parameter to set sort order."
   ]
  },
  {
   "cell_type": "code",
   "execution_count": null,
   "metadata": {
    "tags": []
   },
   "outputs": [],
   "source": [
    "google = pd.read_csv(\"google_stock_price.csv\", usecols=[\"Price\"]).squeeze(\"columns\")\n",
    "pokemon = pd.read_csv(\"pokemon.csv\", usecols=[\"Name\"]).squeeze(\"columns\")"
   ]
  },
  {
   "cell_type": "code",
   "execution_count": null,
   "metadata": {
    "tags": []
   },
   "outputs": [],
   "source": [
    "google.sort_index(ascending=False).head(8)"
   ]
  },
  {
   "cell_type": "markdown",
   "metadata": {},
   "source": [
    "## Extract Series Value by Index Position\n",
    "- Use the `iloc` accessor to extract a **Series** value by its index position.\n",
    "- `iloc` is short for \"index location\".\n",
    "- Python's list slicing syntaxes (slices, slices from start, slices to end, etc.) are supported with **Series** objects."
   ]
  },
  {
   "cell_type": "code",
   "execution_count": null,
   "metadata": {
    "tags": []
   },
   "outputs": [],
   "source": []
  },
  {
   "cell_type": "code",
   "execution_count": null,
   "metadata": {},
   "outputs": [],
   "source": []
  },
  {
   "cell_type": "markdown",
   "metadata": {},
   "source": [
    "## Extract Series Value by Index Label\n",
    "- Use the `loc` accessor to extract a **Series** value by its index label.\n",
    "- Pass a list to extract multiple values by index label.\n",
    "- If one index label/position in the list does not exist, Pandas will raise an error."
   ]
  },
  {
   "cell_type": "code",
   "execution_count": null,
   "metadata": {
    "tags": []
   },
   "outputs": [],
   "source": [
    "pokemon = pd.Series(pd.read_csv(\"pokemon.csv\", usecols=[\"Type\", \"Name\"], index_col = [\"Name\"]).squeeze(\"columns\"))"
   ]
  },
  {
   "cell_type": "code",
   "execution_count": null,
   "metadata": {
    "tags": []
   },
   "outputs": [],
   "source": [
    "# Podemos extrair valores de uma série a partir dos rótulos, como index que se tornaram valores, ou seja, labels não numéricas e informacionais que referenciam ao valor com uma informação, de forma que ambos representam valores mas um identifica o outro \n",
    "pokemon.loc[\"Bulbasaur\"]\n",
    "# Caso utilizemos a sintaxe pokemon[\"Bulbasaur\"] ou com um index, dará certo mas isso abre espaço para ambiguidade e imprecisão, de forma que podemos querer procurar um dado e haver uma confusão de valores caso por exemplo o index também represente um valor, ou seja, devemos evitar essas questões ambíguas e direcionar bem o código, deixando objetivo e sem espaços para erro\n",
    "# Temos também de considerar que para procurar múltiplos index ou labels, eles têm de ser armazenados em uma lista, fora da lista podemos pesquisar intervalors (requisição de x labels) e únicos apenas, pois representam um fator, para vários, podemos utilizar listas e inclusive isso nos ajuda caso seja uma pré-existente por exemplo, como dito anteriormente\n",
    "pokemon.loc[[\"Charizard\", \"Bulbasaur\", \"Pikachu\"]]\n",
    "pokemon.loc[\"Bulbasaur\":]"
   ]
  },
  {
   "cell_type": "markdown",
   "metadata": {},
   "source": [
    "## The get Method on a Series\n",
    "- The `get` method extracts a **Series** value by index label. It is an alternative option to square brackets.\n",
    "- The `get` method's second argument sets the fallback value to return if the label/position does not exist."
   ]
  },
  {
   "cell_type": "code",
   "execution_count": null,
   "metadata": {
    "tags": []
   },
   "outputs": [],
   "source": [
    "pokemon = pd.Series(pd.read_csv(\"pokemon.csv\", usecols=[\"Type\", \"Name\"], index_col = [\"Name\"]).squeeze(\"columns\"))"
   ]
  },
  {
   "cell_type": "code",
   "execution_count": null,
   "metadata": {
    "tags": []
   },
   "outputs": [],
   "source": [
    "# Podemos utilizar o get para pesquisar um valor alternativo caso o parâmetro de pesquisa não seja atingido, que pode ser personalizado para valores não encontrados e retornar mensagens padrões neste caso\n",
    "pokemon.get(\"Pikchu\")\n",
    "#Vemos que com o get não há erro apresentado, pois ele está condicionado a trazer o valor caso encontrado e se não encontrar, não retorna, pois seu objetivo é apenas veriificar se o valor está e retornar para corresponder, não checar como nos outros casos se ele obrigatoriamente está (como não achou valor, não trouxe e não apresentou erros pois não é obrigatoriedade encontrar ou corresponder e sim chamar o elemento)\n",
    "#Podemos então inserir o valor alternativo retornado, que pode ser utilizado como sinalizador em casos de não encontrar ou ser utilizado para outras razões, ams sempre com a ideia de que será retornado em caso de não encontrar\n",
    "#Uma boa opção para utilizarmos como boa prática, pois evita erros e além de retornar valores, retorna respostas e mensagens de não correspondencia que podem ser utilizadas\n",
    "pokemon.get(\"pikchu\", \"Não encontrado\")"
   ]
  },
  {
   "cell_type": "markdown",
   "metadata": {
    "tags": []
   },
   "source": [
    "## Overwrite a Series Value\n",
    "- Use the `loc/iloc` accessor to target an index label/position, then use an equal sign to provide a new value."
   ]
  },
  {
   "cell_type": "code",
   "execution_count": null,
   "metadata": {},
   "outputs": [],
   "source": [
    "pokemon = pd.Series(pd.read_csv(\"pokemon.csv\", usecols=[\"Name\"]).squeeze(\"columns\"))\n",
    "# Podemos utilizar os parâmetros de localização para atribuição de valores pelo símbolo de igualdade, afinal, aquele valor vai ser igual ao index, ou seja, aquele valor passa a ser igual a correspondência do index, nos levando a alteração da série para que corresponda, ela vai ser mudada e passará a representar aquele valor\n",
    "pokemon.iloc[2] = \"Quebrado\"\n",
    "# Podemos também fazer ordenadamente em lista, lembrando sempre da regra de listas e de intervalos (intervalos são valores únicos requisitados também e listas vários valores únicos que tem de ser passados sempre em lista)\n",
    "pokemon.iloc[[2,4,5]] = \"Quebrou\", \"Tome\", \"Ui\"\n",
    "#O mesmo se aplica para labels, ou seja, podemos trocar os valores correspondentes a labels por meio da igualdade, pois estamos do mesmo jeito localizando o valor e trazendo outra atribuição (igualdade a ele), ou seja, não estamos apenas localizando mas atribuindo outro valor, o que muda a série\n",
    "pokemon"
   ]
  },
  {
   "cell_type": "markdown",
   "metadata": {},
   "source": [
    "## The copy Method\n",
    "- A **copy** is a duplicate/replica of an object.\n",
    "- Changes to a copy do not modify the original object.\n",
    "- A **view** is a different way of looking at the *same* data.\n",
    "- Changes to a view *do* modify the original object.\n",
    "- The `copy` method creates a copy of a pandas object."
   ]
  },
  {
   "cell_type": "code",
   "execution_count": null,
   "metadata": {
    "tags": []
   },
   "outputs": [],
   "source": [
    "pokemon_df = pd.read_csv(\"pokemon.csv\", usecols=[\"Name\"])\n",
    "pokemon_series = pokemon_df.squeeze(\"columns\")\n",
    "# Devemos sempre diferenciar a cópia de um objeto de uma visualização, pois uma cópia é copiar exatamente uma tabela, por exemplo, já uma visualização é obtermos aquela tabela de outro ponto de vista, ou seja, modificada para uma outra ótica com dados alterados, direcionados, selecionados ou que fazem parte dela, porém, sem ser igual a tabela pois ela não virá completa, só a visualização (que definimos) baseada nela, então ela está ali mas com outra ótica. É um pouco óbvio, mas temos sempre de ter isso em mente para evitar redundância e possuir questões técnicas que podem otimizar e orientar nossa rotina\n",
    "# Um exemplo de view é uma série, pois ela representa uma visualiização, ou seja, um \"zoom\" nos dados pertencentes ao datase pai, afinal, é uma squeeze, ou seja, é um modelo diferente e direcionado do conjunto de dados que possuímos antes, em python se dá desta forma, diferente do SQL. Logo, o objeto pai é o dataframe e caso criemos views ou outras apresentações derivadas nele que mudem dados ou então mudem visualização e organização, estamos cirando uma view, pois não é igual (é organizada e dimensionada de outra forma) e é baseada no dataframe, o que a configura como view por não ser exatamente igual e sim um viés dele.\n",
    "# Caso alteremos uma view, como representa uma fatia ou uma outra representação dentro dos dados, vamos também afetar a totalidade, no caso, o dataframe. Podemos alterar valores da view, mas vamos afetar o conjunto original por serem valores retirados e uma visualização diferente dos dados originais, mas ainda representando eles\n",
    "pokemon_series.iloc[0] = \"Modificada também no DF por ser apenas um zoom nos dados, mas ainda serem os mesmos\"\n",
    "pokemon_df"
   ]
  },
  {
   "cell_type": "code",
   "execution_count": null,
   "metadata": {
    "tags": []
   },
   "outputs": [],
   "source": [
    "# Para criarmos uma cópia, uma duplicata como uma série no SQL, ou seja, uma cópia que não afetará os dados originais mas sim os novos, pois não tem mais a ver com a original, assim como uma view em sql, que não tem a ver e se assemelha (sabemos que não é isso) a uma cópia da original mas sem relação operacional\n",
    "pokemon_copia = pokemon_df.squeeze(\"columns\").copy()\n",
    "#Podemos inclusive modificar e trazer novos parâmetros antes de fazer a cópia, assim como fizemos para dar o squeeze antes de fazer a cópia, se tornando flexível. É importante fixarmos esses conceitos e diferenças entre view, cópias e dependências para utilizarmos a linguagem e estar a par de funcionalidades e de possibilidades, já que as linguagens são únicas e conceitos como estes mudam um pouco mas em essência são os mesmos\n",
    "# Vamos principalmente utilizar a cópia para que métodos e funções aplicadas não afetem os dados originais, para criarmos nossa própria série e modificá-la para objetivos diferentes sem que a primeira se altere, como vimos\n",
    "# Views são partes do objeto que o representam e possuem dependências com ele, pois fazem parte dele e só representam uma parte retirada dele mas que ainda o referencia, cópias são novos objetos baseados nos dados originais que podem ou não ser iguais (sempre baseados) mas vão permitir relação sem dependência por serem \"únicos\"\n",
    "pokemon_copia.iloc[2] = \"ui\"\n",
    "pokemon_copia\n",
    "pokemon_df"
   ]
  },
  {
   "cell_type": "markdown",
   "metadata": {},
   "source": [
    "## Math Methods on Series Objects\n",
    "- The `count` method returns the number of values in the **Series**. It excludes missing values; the `size` attribute includes missing values.\n",
    "- The `sum` method adds together the **Series's** values.\n",
    "- The `product` method multiplies together the **Series's** values.\n",
    "- The `mean` method calculates the average of the **Series's** values.\n",
    "- The `std` method calculates the standard deviation of the **Series's** values.\n",
    "- The `max` method returns the largest value in the **Series**.\n",
    "- The `min` method returns the smallest value in the **Series**.\n",
    "- The `median` method returns the median of the **Series** (the value in the middle).\n",
    "- The `mode` method returns the mode of the **Series** (the most frequent alue).\n",
    "- The `describe` method returns a summary with various mathematical calculations."
   ]
  },
  {
   "cell_type": "code",
   "execution_count": null,
   "metadata": {
    "tags": []
   },
   "outputs": [],
   "source": [
    "google = pd.Series(pd.read_csv(\"google_stock_price.csv\", usecols=[\"Price\"]).squeeze(\"columns\"))\n",
    "google\n"
   ]
  },
  {
   "cell_type": "code",
   "execution_count": null,
   "metadata": {
    "tags": []
   },
   "outputs": [],
   "source": [
    "# Podemos utilizar métodos matemáticos nas séries para extrair valores e dados a partir dos dados\n",
    "# Size vai trazer o número de linhas totais nas condições (mesmo que vazias) e count semelhante SQL vai contar apenas os existentes, que correspondem a valores não nulos caso não especifiquemos nada, trazendo a quantidade de registros preenchidos\n",
    "# Lembrando que o count vai contar o número de elementos básicos no objeto, ou seja, se for string, pode contar quantos caracteres x tem, em lista, quantos elementos x tem e em séries, quantos valores x tem, sempre com a idea de trabalhar em alguns casos com valor e geral mas em várias funções trabalhar com a ideia de menor valor, ou seja, a menor parte daquele objeto, no caso das séries, o menor (a unidade) é o próprio valor\n",
    "google.count()\n",
    "google.sum()\n",
    "google.product()\n",
    "\n",
    "#Podemos também personalizar os métodos para se encaixarem em uma lista de valores específicos, a fim de trazer a operação matemática apenas para esta lista\n",
    "google.iloc[[5, 599, 699, 3]].product()\n",
    "google.iloc[40:].sum()\n",
    "google.iloc[40:5000].sum() #Lembrando SEMPRE que o último valor em intervalos não é utilizado pois é considerado o intervalo, então ele entende como estar puxando x quantidade de valores como um único e não puxará o último pois conta do primeiro, trazendo a quantidade, o que desconsidera ele\n",
    "#Lembremos também que valores que consideram a diferença ou comandos que consideram x valores da lista vão puxar até o limite, ou seja, eles vão puxar todos os valores possíveis da lista pois estamos apenas solicitando a quantidade como no get (pensemos como um limite)\n",
    "#Atenção SEMPRE para utilizar métodos, atributos e funções, pois cada um exige um tipo de chave, parênteses e delimitadores, então cuidado pois métodos são parênteses, listas são chaves etc.\n",
    "# Verificar sempre no início do aprendizado para ver o que cada método tem como padrão e o que exige como delimitação\n",
    "\n"
   ]
  },
  {
   "cell_type": "markdown",
   "metadata": {},
   "source": [
    "## Broadcasting\n",
    "- **Broadcasting** describes the process of applying an arithmetic operation to an array (i.e., a **Series**).\n",
    "- We can combine mathematical operators with a **Series** to apply the mathematical operation to every value.\n",
    "- There are also methods to accomplish the same results (`add`, `sub`, `mul`, `div`, etc.)"
   ]
  },
  {
   "cell_type": "code",
   "execution_count": null,
   "metadata": {
    "tags": []
   },
   "outputs": [],
   "source": [
    "google = pd.Series(pd.read_csv(\"google_stock_price.csv\", usecols=[\"Price\"]).squeeze(\"columns\"))"
   ]
  },
  {
   "cell_type": "code",
   "execution_count": null,
   "metadata": {
    "tags": []
   },
   "outputs": [],
   "source": [
    "# A transmissão funciona justamente como o nome, vai transmitir uma operação para cada item da série que foi selecionado para tal, assim como fazemos no excel quando puxamos uma fórmula para outras fórmulas\n",
    "# Existem operações específicas de broadcasting\n",
    "google.add(10) # É uma boa prática utilizar os métodos para tal, porém podemos utilizar também fórmulas com o nome da série\n",
    "google + 10  # Aqui um exemplo utilizando o nome da série que também vai produzir um broadcasting, dessa forma também conseguimos replicar as operações e juntar operações para replicar em todos os valores, ou seja, se inserimos o nome da série na operação, estamos expandindo e fazendo operações com cada e todos os valores (se não especificado), pois considerará ela toda, ou seja, todos os elementos\n",
    "\n",
    "google.sub(5)\n",
    "google - 5\n",
    "\n",
    "#Combinando\n",
    "google.sub(5).add(400)\n",
    "google * 10 + 5"
   ]
  },
  {
   "cell_type": "markdown",
   "metadata": {},
   "source": [
    "## The value_counts Method\n",
    "- The `value_counts` method returns the number of times each unique value occurs in the **Series**.\n",
    "- The `normalize` parameter returns the relative frequencies/percentages of the values instead of the counts."
   ]
  },
  {
   "cell_type": "code",
   "execution_count": null,
   "metadata": {
    "tags": []
   },
   "outputs": [],
   "source": [
    "pokemon = pd.Series(pd.read_csv(\"pokemon.csv\", usecols=[\"Type\"]).squeeze(\"columns\"))\n",
    "pokemon"
   ]
  },
  {
   "cell_type": "code",
   "execution_count": null,
   "metadata": {
    "tags": []
   },
   "outputs": [],
   "source": [
    "# Aqui vemos algo semelhante ao count do SQL, considerando o group by, ou seja, vai contar os valores agrupados\n",
    "# Temos de prestar atenção em quais itens compões a série, que inserimos como index ou que inserimos como valores, ou seja, o que vamos considerar como valores para contagem, parâmetros, colunas etc etc.\n",
    "pokemon.value_counts()\n",
    "pokemon.value_counts(ascending = True) # Temos de SEMPRE OBSERVAR OS PARÂMETROS COM SHIFT TAB, desta forma podemos verificar como podemos personalizar o comando e como podemos utilizar eles para direcionar e tornar mais específica nossa pesquisa, além de poupar código e redundâncias, pois verificamos as funcionalidades e questões intrínsecas que podem nos ajudar\n",
    "pokemon.value_counts(normalize=True) # Caso queiramos por exemplo a porcentagem em decimal do número de vezes que o valor aparece em nossa série\n",
    "pokemon.value_counts(normalize=True) * 100 # Podemos também utilizar broadcasting nas séries com uso de métodos, ou seja, quaisquer séries podem ser incluídas em reações em cadeias caso utilizadas em operações, de forma que estas operações vão refletir nelas mesmo utilizando outras funções e podem ser operadas deste modo, como para mostrar a porcentagem decimal no valor de porcentagem comum, como estamos habituados, que é o valor * 100, mudando a visualização para vermos os valores de outra forma (um exemplo de utilização para facilitar nossa visualização da série)\n",
    "    "
   ]
  },
  {
   "cell_type": "markdown",
   "metadata": {},
   "source": [
    "## The apply Method\n",
    "- The `apply` method accepts a function. It invokes that function on every `Series` value."
   ]
  },
  {
   "cell_type": "code",
   "execution_count": 6,
   "metadata": {
    "tags": []
   },
   "outputs": [
    {
     "data": {
      "text/plain": [
       "0          Bulbasaur\n",
       "1            Ivysaur\n",
       "2           Venusaur\n",
       "3         Charmander\n",
       "4         Charmeleon\n",
       "            ...     \n",
       "1005    Iron Valiant\n",
       "1006        Koraidon\n",
       "1007        Miraidon\n",
       "1008    Walking Wake\n",
       "1009     Iron Leaves\n",
       "Name: Name, Length: 1010, dtype: object"
      ]
     },
     "execution_count": 6,
     "metadata": {},
     "output_type": "execute_result"
    }
   ],
   "source": [
    "pokemon = pd.read_csv(\"pokemon.csv\", usecols=[\"Name\"]).squeeze(\"columns\")\n",
    "pokemon"
   ]
  },
  {
   "cell_type": "code",
   "execution_count": null,
   "metadata": {
    "tags": []
   },
   "outputs": [],
   "source": [
    "# Assim como operações, podemos expandie funções para cada valor de nossa série, fazendo o broadcasting não apenas com álgebra, mas também com as funções disponibilizadas\n",
    "# Logo, funções aritméticas e de cálculos algébricos serão repassadas de maneira simples ou utilizando os métodos atribuídos a série, enquanto para utilizarmos funções, sejam criadas ou pertinentes ao Python, vamos aplicar a série (ou intervalo, caso encessitemos), fazendo o mesmo que um broadcasting, mas diferenciando para álgebras e para uso de funções\n",
    "pokemon.apply(len)"
   ]
  },
  {
   "cell_type": "code",
   "execution_count": null,
   "metadata": {
    "tags": []
   },
   "outputs": [],
   "source": [
    "def count_of_a(pokemon):\n",
    "    return pokemon.count(\"a\")\n",
    "pokemon.apply(count_of_a)\n",
    "# Conseguimos aplicar então a função para uma cadeia inteira da série, do mesmo modo, podemos contar quantas letras a existem no total se juntarmos os métodos e funções aprendidos, além de relacionar os diferentes atributos e questões que aprendemos podendo trabalhar e filtrar valores, dados, quantidades e informações das séries para trabalharmos com elas"
   ]
  },
  {
   "cell_type": "markdown",
   "metadata": {},
   "source": [
    "## The map Method\n",
    "- The `map` method \"maps\" or connects each **Series** values to another value.\n",
    "- We can pass the method a dictionary or a **Series**. Both types connects keys to values.\n",
    "- The `map` method uses our argument to connect or bridge together the values."
   ]
  },
  {
   "cell_type": "code",
   "execution_count": 7,
   "metadata": {
    "tags": []
   },
   "outputs": [
    {
     "data": {
      "text/plain": [
       "Name\n",
       "Bulbasaur          Grass, Poison\n",
       "Ivysaur            Grass, Poison\n",
       "Venusaur           Grass, Poison\n",
       "Charmander                  Fire\n",
       "Charmeleon                  Fire\n",
       "                      ...       \n",
       "Iron Valiant     Fairy, Fighting\n",
       "Koraidon        Fighting, Dragon\n",
       "Miraidon        Electric, Dragon\n",
       "Walking Wake       Water, Dragon\n",
       "Iron Leaves       Grass, Psychic\n",
       "Name: Type, Length: 1010, dtype: object"
      ]
     },
     "execution_count": 7,
     "metadata": {},
     "output_type": "execute_result"
    }
   ],
   "source": [
    "pokemon = pd.read_csv(\"pokemon.csv\", index_col=\"Name\").squeeze(\"columns\") #Lembrando sempre de que quando utilizamos o read, caso não coloquemos a coluna utilizada, ele puxa todas, então por isso nunca colocamos elas quando definimos index nestes exemplos, já que possui apenas duas colunas, ele vai puxar o resto para valores se uma for index, igual puxaria duas se houvesse, mas focamos sempre no contexto e na disponibilidade, então enste caso podemos declarar assim e em outros declaramos as colunas utilizadas e outros atributos se necessário\n",
    "pokemon"
   ]
  },
  {
   "cell_type": "code",
   "execution_count": 9,
   "metadata": {
    "tags": []
   },
   "outputs": [
    {
     "data": {
      "text/plain": [
       "{'Grass': 10,\n",
       " 'Fire': 15,\n",
       " 'Water': 15,\n",
       " 'Fairy, Fighting': 20,\n",
       " 'Grass, Psychic': 50,\n",
       " 'Grass, Poison': 30}"
      ]
     },
     "execution_count": 9,
     "metadata": {},
     "output_type": "execute_result"
    }
   ],
   "source": [
    "# Podemos como o vlookup do excel, filtrar valores das séries para conectar a outros em um outro dataset, como um join (semelhante)\n",
    "attack_powers = {\n",
    "    \"Grass\": 10,\n",
    "    \"Fire\": 15,\n",
    "    \"Water\": 15,\n",
    "    \"Fairy, Fighting\": 20,\n",
    "    \"Grass, Psychic\": 50,\n",
    "    \"Grass, Poison\": 30\n",
    "}\n",
    "attack_powers"
   ]
  },
  {
   "cell_type": "code",
   "execution_count": 10,
   "metadata": {
    "tags": []
   },
   "outputs": [
    {
     "data": {
      "text/plain": [
       "Name\n",
       "Bulbasaur       30.0\n",
       "Ivysaur         30.0\n",
       "Venusaur        30.0\n",
       "Charmander      15.0\n",
       "Charmeleon      15.0\n",
       "                ... \n",
       "Iron Valiant    20.0\n",
       "Koraidon         NaN\n",
       "Miraidon         NaN\n",
       "Walking Wake     NaN\n",
       "Iron Leaves     50.0\n",
       "Name: Type, Length: 1010, dtype: float64"
      ]
     },
     "execution_count": 10,
     "metadata": {},
     "output_type": "execute_result"
    }
   ],
   "source": [
    "pokemon.map(attack_powers)\n",
    "\n",
    "# Observamos que os valores estão em float, isso porque sempre que uma série tiver ao menos um campo nulo, a série será convertida em floating, caso composta por números. Com outros tipos continuaria como string e outros de texto, mas no caso de números, basta ter um e os valores da série são convertidos em float por regra, o que deve ser melhor e deve contornar casos"
   ]
  },
  {
   "cell_type": "code",
   "execution_count": null,
   "metadata": {},
   "outputs": [],
   "source": [
    "# Finalmente o join, neste caso, representando o left join ou próximo, muito mais simples e objetivo de ser utilizado, porém, substituindo os valores invés de juntá-los, ou seja, ele não vai juntar como no sql e sim substituir os correspondentes pelo valor que deu match"
   ]
  },
  {
   "cell_type": "code",
   "execution_count": null,
   "metadata": {},
   "outputs": [],
   "source": []
  },
  {
   "cell_type": "code",
   "execution_count": null,
   "metadata": {},
   "outputs": [],
   "source": []
  },
  {
   "cell_type": "code",
   "execution_count": null,
   "metadata": {},
   "outputs": [],
   "source": []
  }
 ],
 "metadata": {
  "anaconda-cloud": {},
  "kernelspec": {
   "display_name": "Python 3 (ipykernel)",
   "language": "python",
   "name": "python3"
  },
  "language_info": {
   "codemirror_mode": {
    "name": "ipython",
    "version": 3
   },
   "file_extension": ".py",
   "mimetype": "text/x-python",
   "name": "python",
   "nbconvert_exporter": "python",
   "pygments_lexer": "ipython3",
   "version": "3.11.5"
  }
 },
 "nbformat": 4,
 "nbformat_minor": 4
}
