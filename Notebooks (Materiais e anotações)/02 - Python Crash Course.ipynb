{
 "cells": [
  {
   "cell_type": "markdown",
   "id": "165afe4b-04af-43f0-93f9-b0ee79b7e7e9",
   "metadata": {},
   "source": [
    "# Python Crash Course"
   ]
  },
  {
   "cell_type": "markdown",
   "id": "b0d79961",
   "metadata": {},
   "source": [
    "## Comments\n",
    "- A **comment** is a line of text ignored by Python.\n",
    "- Use a hashtag/octothorpe (#) to create a comment."
   ]
  },
  {
   "cell_type": "code",
   "execution_count": 1,
   "id": "5f7086e1-1eb1-482c-a4a0-5fd1869fbc5c",
   "metadata": {
    "tags": []
   },
   "outputs": [
    {
     "data": {
      "text/plain": [
       "6"
      ]
     },
     "execution_count": 1,
     "metadata": {},
     "output_type": "execute_result"
    }
   ],
   "source": [
    "# Podemos por meio de comentários demonstrar meta-dados, informações sobre autoria dentre outras\n",
    "# Para tornar a linha um comentário, utilizamos cntrl + /\n",
    "3+3 # Podemos inclusive colocar comentários após o código para nos ajudar\n",
    "# Utilizar o comentário invés do notebook consiste em deixar partes de comentário no código, pois nem todos utilizarão o notebook, mas o python sim\n",
    "# Ou seja, devemos analisar o ambiente, finalidade e público para utilizar um ou o outro para fornecer informações\n",
    "\n"
   ]
  },
  {
   "cell_type": "markdown",
   "id": "92e4dcbd-ae5d-4fe8-b2c0-c494fb605ca8",
   "metadata": {},
   "source": [
    "## Basic Data Types\n",
    "- An **integer** is a whole number.\n",
    "- A **floating-point** number is one with a fractional or decimal component.\n",
    "- A **string** is a piece of text. It's a collection of characters, the \" iniciates a string, like \"Boris\".\n",
    "- An **empty string** has a length of 0 characters.\n",
    "- A **Boolean** is a type whose value can only be True or False.\n",
    "- **None** is a special Python type that represents nothingness, blankness, or the absence of a value.\n",
    "- The operations that can be performed on a value depend on its type. There are functionalities that we can do with strings but not numbers, and vice versa."
   ]
  },
  {
   "cell_type": "markdown",
   "id": "3271e1b9",
   "metadata": {},
   "source": [
    "## Operators\n",
    "- An **operator** is a symbol that performs an operation (mathematical, logical, etc).\n",
    "- Python supports all traditional mathematical operation - `+` for addition, `-` for subtraction, `*` for multiplication, and `/` for division.\n",
    "- The floor division operator (`//`) leaves off the floating point portion of a division result. The '%' defines the module of a division.\n",
    "- The `+` operator performs concatenation when used with strings.\n",
    "- The equality operator (`==`) returns True if two values are equal to each other.\n",
    "- The inequality operator (`!=`) returns True if two values are unequal to each other."
   ]
  },
  {
   "cell_type": "code",
   "execution_count": 2,
   "id": "18c1be1f",
   "metadata": {},
   "outputs": [
    {
     "data": {
      "text/plain": [
       "'carro de corrida'"
      ]
     },
     "execution_count": 2,
     "metadata": {},
     "output_type": "execute_result"
    }
   ],
   "source": [
    "# O + também pode ser utilizado como operador de concatenação\n",
    "\"carro\" + \" de corrida\""
   ]
  },
  {
   "cell_type": "code",
   "execution_count": 3,
   "id": "976f03ae-e196-4726-8762-079aa0db7e43",
   "metadata": {
    "tags": []
   },
   "outputs": [
    {
     "data": {
      "text/plain": [
       "'RsRsRsRsRsRsRsRsRsRs'"
      ]
     },
     "execution_count": 3,
     "metadata": {},
     "output_type": "execute_result"
    }
   ],
   "source": [
    "# A multiplicação pode ser utilizada entre diferentes tipos\n",
    "\"Rs\" * 10"
   ]
  },
  {
   "cell_type": "code",
   "execution_count": 4,
   "id": "66a67875-de12-4f73-a235-8d93472e8599",
   "metadata": {
    "tags": []
   },
   "outputs": [
    {
     "data": {
      "text/plain": [
       "35"
      ]
     },
     "execution_count": 4,
     "metadata": {},
     "output_type": "execute_result"
    }
   ],
   "source": [
    "# PENDAS define a ordem de operadores - Parenteses, exponentes, multiplicação/divisão, adição/subtração\n",
    "3 + 4 * 5\n",
    "(3 + 4) * 5"
   ]
  },
  {
   "cell_type": "code",
   "execution_count": 5,
   "id": "58b969aa-77b8-4bb9-a108-d345e7fb760c",
   "metadata": {
    "tags": []
   },
   "outputs": [
    {
     "data": {
      "text/plain": [
       "3"
      ]
     },
     "execution_count": 5,
     "metadata": {},
     "output_type": "execute_result"
    }
   ],
   "source": [
    "# Existe também o operador de módulo, que representa o resto de uma divisão\n",
    "14 % 3\n",
    "15 % 4"
   ]
  },
  {
   "cell_type": "code",
   "execution_count": 6,
   "id": "5054b8ca-f00d-45b6-b283-2836b2771ef8",
   "metadata": {
    "tags": []
   },
   "outputs": [
    {
     "data": {
      "text/plain": [
       "False"
      ]
     },
     "execution_count": 6,
     "metadata": {},
     "output_type": "execute_result"
    }
   ],
   "source": [
    "# Comparações entre valores que representam a mesma informação serão validados, mesmo que de diferentes tipos (com a exclusão de string com número)\n",
    "\"5\" == 5\n",
    "\"String\" == \"String\"\n",
    "5 == 5.1"
   ]
  },
  {
   "cell_type": "code",
   "execution_count": 7,
   "id": "0ba77ba9-43b6-46d6-8118-509a1d3eda48",
   "metadata": {
    "tags": []
   },
   "outputs": [
    {
     "data": {
      "text/plain": [
       "False"
      ]
     },
     "execution_count": 7,
     "metadata": {},
     "output_type": "execute_result"
    }
   ],
   "source": [
    "# Outros operadores comuns podem ser utilizados, como <, >, <=, >=, <>\n",
    "5 > 9\n",
    "5 < 9\n",
    "5 >= 9"
   ]
  },
  {
   "cell_type": "markdown",
   "id": "a7bc67a9",
   "metadata": {},
   "source": [
    "## Variables\n",
    "- A **variable** is a name for a value in your program. It is a placeholder for the value.\n",
    "- The value that a variable represents can *vary* over a program.\n",
    "- Multi-word variable names should follow a `snake_case` naming convention.\n",
    "- Python evaluates the right-hand side of an equal sign first.\n",
    "- The `len` function returns the length of its argument."
   ]
  },
  {
   "cell_type": "code",
   "execution_count": 8,
   "id": "06765506-d200-4b47-a2e4-0e189cd00f89",
   "metadata": {
    "tags": []
   },
   "outputs": [],
   "source": [
    "# A sintaxe das variáveis é nome = valor\n",
    "age = 4\n",
    "price = 0.99"
   ]
  },
  {
   "cell_type": "code",
   "execution_count": 9,
   "id": "14046d65-15b2-4f5a-a33d-1cf4519a527b",
   "metadata": {
    "tags": []
   },
   "outputs": [
    {
     "data": {
      "text/plain": [
       "'Gabriel Marciotti'"
      ]
     },
     "execution_count": 9,
     "metadata": {},
     "output_type": "execute_result"
    }
   ],
   "source": [
    "# Também podemos utilizar vários nomes na variável com o snake_case_formating\n",
    "age_of_players = 5\n",
    "first_name = \"Gabriel\"\n",
    "last_name = \"Cordeiro\"\n",
    "\n",
    "first_name + \" Marciotti\"\n",
    "\n",
    "# A operação com variáveis será sempre válida, desde que respeite os tipos que estão dentro delas (sem considerar o nome atribuído, claro)"
   ]
  },
  {
   "cell_type": "code",
   "execution_count": 10,
   "id": "71137fe3-fb6a-405a-a14a-1bb9fd1fb4a1",
   "metadata": {
    "tags": []
   },
   "outputs": [],
   "source": [
    "# O lado direito da igualdade sempre é analisado primeiro\n",
    "# Por isso quando definimos age = age + 4, ele primeiro faz o da direita e depois atribui\n",
    "age = age + 5\n",
    "age += 5"
   ]
  },
  {
   "cell_type": "code",
   "execution_count": 11,
   "id": "8bd9a749-52d2-455a-90b7-57df7bbd1b90",
   "metadata": {},
   "outputs": [],
   "source": [
    "# Atenção nas execuções e na ordem lógica é importante"
   ]
  },
  {
   "cell_type": "markdown",
   "id": "42d67a50",
   "metadata": {},
   "source": [
    "## Built-in Functions\n",
    "- A **function** is a repeatable procedure.\n",
    "- A **function** can accept inputs (which are called **arguments**).\n",
    "- A **function** produces a **return value**, which is the \"output\" of the function.\n",
    "- The technical term for running/executing a function is \"invoking\" or \"calling\".\n",
    "- Invoke a function with a pair of parentheses.\n",
    "- The `len` function returns the length of its argument.\n",
    "- The `str` function converts its argument to a string.\n",
    "- The `int` function converts its argument to an integer.\n",
    "- The `float` function converts its argument to a floating-point.\n",
    "- The `type` function returns the type of its argument (the kind of value it is)."
   ]
  },
  {
   "cell_type": "code",
   "execution_count": 12,
   "id": "c876360e-9043-458c-a10e-97815c43eb2f",
   "metadata": {
    "tags": []
   },
   "outputs": [
    {
     "data": {
      "text/plain": [
       "3"
      ]
     },
     "execution_count": 12,
     "metadata": {},
     "output_type": "execute_result"
    }
   ],
   "source": [
    "len('tes')"
   ]
  },
  {
   "cell_type": "code",
   "execution_count": 13,
   "id": "54c11642-a975-43c5-938c-83b173c1ef16",
   "metadata": {
    "tags": []
   },
   "outputs": [
    {
     "data": {
      "text/plain": [
       "'2442'"
      ]
     },
     "execution_count": 13,
     "metadata": {},
     "output_type": "execute_result"
    }
   ],
   "source": [
    "str(2442)"
   ]
  },
  {
   "cell_type": "code",
   "execution_count": 14,
   "id": "686e22fa-67a7-481b-8689-23f73f812ead",
   "metadata": {
    "tags": []
   },
   "outputs": [
    {
     "data": {
      "text/plain": [
       "6"
      ]
     },
     "execution_count": 14,
     "metadata": {},
     "output_type": "execute_result"
    }
   ],
   "source": [
    "int('6')"
   ]
  },
  {
   "cell_type": "code",
   "execution_count": 15,
   "id": "f8cd75b3-0ee2-490b-9c80-6af66456811d",
   "metadata": {
    "tags": []
   },
   "outputs": [
    {
     "data": {
      "text/plain": [
       "4.0"
      ]
     },
     "execution_count": 15,
     "metadata": {},
     "output_type": "execute_result"
    }
   ],
   "source": [
    "float(4)"
   ]
  },
  {
   "cell_type": "code",
   "execution_count": 16,
   "id": "270c8bf5-4523-4b25-a73b-15769307fad4",
   "metadata": {
    "tags": []
   },
   "outputs": [
    {
     "data": {
      "text/plain": [
       "bool"
      ]
     },
     "execution_count": 16,
     "metadata": {},
     "output_type": "execute_result"
    }
   ],
   "source": [
    "type(True)"
   ]
  },
  {
   "cell_type": "code",
   "execution_count": 17,
   "id": "5b7ffcbb-4720-42cc-b9a3-8cfefe013366",
   "metadata": {
    "tags": []
   },
   "outputs": [],
   "source": [
    "# As funções podem ser atribuídas a variáveis, de modo que podem converter o valor pra variável ou alterálo (por exemplo)\n",
    "teste = len(\"awfafwafawfa\")"
   ]
  },
  {
   "cell_type": "code",
   "execution_count": 18,
   "id": "4405f39f-ea86-4561-83b2-a1b6b8efdc56",
   "metadata": {
    "tags": []
   },
   "outputs": [
    {
     "data": {
      "text/plain": [
       "12"
      ]
     },
     "execution_count": 18,
     "metadata": {},
     "output_type": "execute_result"
    }
   ],
   "source": [
    "teste"
   ]
  },
  {
   "cell_type": "markdown",
   "id": "cf976284",
   "metadata": {},
   "source": [
    "## Custom Functions\n",
    "- Define a function with the `def` keyword, a name, a parameter list, and a colon.\n",
    "- Functions names should follow a `snake_case` naming convention.\n",
    "- A **parameter** is a name for an expected input.\n",
    "- Write the function's logic inside a nested block. The end of the block marks the end of the function logic.\n",
    "- Variables declared inside a function body will only last as long as the function runs.\n",
    "- Use the **return** keyword to specify the function's return value (output).\n",
    "- When invoking a function, we can pass in argument sequentially or with explicit parameter names.\n",
    "- A **default argument** is a fallback value that Python will provide if an argument is not passed for a parameter during invocation."
   ]
  },
  {
   "cell_type": "code",
   "execution_count": 19,
   "id": "5b251bcf",
   "metadata": {},
   "outputs": [],
   "source": [
    "# sintaxe assim como para variáveis, em minúscula e snake_case\n",
    "# Python é uma linguagem de blocos, ou seja, utiliza identação\n",
    "\n",
    "# def nome_funcao(parametro_1):\n",
    "#     passos e variáveis (de retorno ou não)\n",
    "#     return operação ou variável\n",
    "\n",
    "def converter_real_dolar(valor):\n",
    "    return valor * 4.94\n",
    "    "
   ]
  },
  {
   "cell_type": "code",
   "execution_count": 20,
   "id": "50ef6f0a-a9d2-4e03-8c2a-570246d34729",
   "metadata": {},
   "outputs": [
    {
     "data": {
      "text/plain": [
       "24.700000000000003"
      ]
     },
     "execution_count": 20,
     "metadata": {},
     "output_type": "execute_result"
    }
   ],
   "source": [
    "converter_real_dolar(5)"
   ]
  },
  {
   "cell_type": "code",
   "execution_count": 21,
   "id": "56b074bc-6296-43a1-8d0b-317685d9972c",
   "metadata": {},
   "outputs": [
    {
     "data": {
      "text/plain": [
       "29.64"
      ]
     },
     "execution_count": 21,
     "metadata": {},
     "output_type": "execute_result"
    }
   ],
   "source": [
    "# Podemos também declarar o nome do input para informar desordenado\n",
    "# Para funções, podemos deixar de usar os espaços nos operadores (por convenção)\n",
    "# Por hora, mesmo que definamos uma variável padrão, o tipo não se resume a ela e pode ser tanto inteiro\n",
    "# quanto string ou outros. Caso coloquemos e a operação seja possívelm será aceito\n",
    "\n",
    "converter_real_dolar(valor=6)"
   ]
  },
  {
   "cell_type": "code",
   "execution_count": 22,
   "id": "1c2c70f9-1d83-45c7-89c2-b507a634592c",
   "metadata": {},
   "outputs": [],
   "source": [
    "# Podemos fazer um parâmetro padrão de retorno\n",
    "# para casos onde não há argumentos corretos informados\n",
    "# evitando erros (caso indesejados)\n",
    "\n",
    "def converter_real_dolar_default(valor=0):\n",
    "    return valor"
   ]
  },
  {
   "cell_type": "code",
   "execution_count": 23,
   "id": "ac1a5d5e-2e85-4d29-9c54-8eb383c6f360",
   "metadata": {},
   "outputs": [
    {
     "data": {
      "text/plain": [
       "'ST'"
      ]
     },
     "execution_count": 23,
     "metadata": {},
     "output_type": "execute_result"
    }
   ],
   "source": [
    "# Devemos também lembrar que ele sempre irá calcular,\n",
    "# independente de retornarmos o valro ou não\n",
    "# então podemos usar pra calcular mas não mostrar o valor,\n",
    "# apenas usá-lo\n",
    "\n",
    "converter_real_dolar_default('ST')"
   ]
  },
  {
   "cell_type": "markdown",
   "id": "7875f148",
   "metadata": {},
   "source": [
    "## String Methods\n",
    "- An **object** is the technical term for a type. A string is an example of an object.\n",
    "- A **method** is like a function that belongs to an object.\n",
    "- To invoke a method, provide a period after the object, then the method name and a pair of parentheses.\n",
    "- We use similar terminology and syntax for functions and methods. We can invoke methods. We can pass arguments to methods. Methods can return values.\n",
    "- Objects can be **mutable** (capable of change) or **immutable** (incapable of change). A string is immutable.\n",
    "- Common string methods include `upper`, `lower`, `swapcase`, `title`, `capitalize`, and `strip`.\n",
    "- **Method chaining** refers to invoking methods on objects returned by previous method invocations. We create a link or \"chain\" of methods.\n",
    "- The **in** and **not in** keywords check for the presence and absence of a substring within a string."
   ]
  },
  {
   "cell_type": "code",
   "execution_count": 24,
   "id": "dc957854-a26c-4e7f-86bf-7d751f8529e8",
   "metadata": {},
   "outputs": [],
   "source": [
    "# Métodos são como funções, mas não vão esperar argumentos, eles\n",
    "# de fato vão atuar e transformar um objeto (tipo) e operá-lo diretamente\n",
    "# sem necessidade de declaração, como vemos em SQL, com o upper\n",
    "# lower e outros, sendo atribuídos aos objetos (tipos) e distintos por serem\n",
    "# dos objetos. Ou seja, são imutáveis e comandos de fato com um objetivo\n",
    "\n",
    "# Objetos imutáveis são por exemplo, strings, que independente do método, não mudarão\n",
    "# e sim serão representados por meio de outro objeto, sem mudar o primeiro, apenas o reorganizando e aplicando o método\n",
    "\n",
    "# A sintaxe é objeto(ou variável referente ao objeto).método"
   ]
  },
  {
   "cell_type": "code",
   "execution_count": 25,
   "id": "b1a69a51-ec83-49fa-8488-d3079fbde6cc",
   "metadata": {},
   "outputs": [
    {
     "data": {
      "text/plain": [
       "'HELLO WORLD'"
      ]
     },
     "execution_count": 25,
     "metadata": {},
     "output_type": "execute_result"
    }
   ],
   "source": [
    "\"Hello World\".upper()"
   ]
  },
  {
   "cell_type": "code",
   "execution_count": 26,
   "id": "105a1f30-ad2b-4038-8a39-e47a62c6cf9c",
   "metadata": {},
   "outputs": [
    {
     "data": {
      "text/plain": [
       "'hello world'"
      ]
     },
     "execution_count": 26,
     "metadata": {},
     "output_type": "execute_result"
    }
   ],
   "source": [
    "\"Hello World\".lower()"
   ]
  },
  {
   "cell_type": "code",
   "execution_count": 27,
   "id": "53f28ef6-d203-47b0-8da7-baf6e7f33bfe",
   "metadata": {},
   "outputs": [],
   "source": [
    "VAL = 'hELLO'"
   ]
  },
  {
   "cell_type": "code",
   "execution_count": 28,
   "id": "8544af5d-e171-4991-ab65-5f9a6aea675e",
   "metadata": {
    "tags": []
   },
   "outputs": [
    {
     "data": {
      "text/plain": [
       "'HELLO'"
      ]
     },
     "execution_count": 28,
     "metadata": {},
     "output_type": "execute_result"
    }
   ],
   "source": [
    "VAL.upper()"
   ]
  },
  {
   "cell_type": "code",
   "execution_count": 29,
   "id": "4a89acb2-4c9c-4bab-b9cf-af52a6b0938e",
   "metadata": {},
   "outputs": [
    {
     "data": {
      "text/plain": [
       "'hELLO'"
      ]
     },
     "execution_count": 29,
     "metadata": {},
     "output_type": "execute_result"
    }
   ],
   "source": [
    "VAL"
   ]
  },
  {
   "cell_type": "code",
   "execution_count": 30,
   "id": "d539954f-0d9b-4674-b197-a06e116ea612",
   "metadata": {},
   "outputs": [
    {
     "data": {
      "text/plain": [
       "'Hello'"
      ]
     },
     "execution_count": 30,
     "metadata": {},
     "output_type": "execute_result"
    }
   ],
   "source": [
    "VAL.capitalize()"
   ]
  },
  {
   "cell_type": "code",
   "execution_count": 31,
   "id": "86c7dfe0-df88-4079-a9dc-605321e905fc",
   "metadata": {},
   "outputs": [],
   "source": [
    "profissao = \"           Desenvolvedor       \""
   ]
  },
  {
   "cell_type": "code",
   "execution_count": 32,
   "id": "5a42583c-3a12-48ff-aaa0-d2a2f1fdc39c",
   "metadata": {},
   "outputs": [
    {
     "data": {
      "text/plain": [
       "'Desenvolvedor       '"
      ]
     },
     "execution_count": 32,
     "metadata": {},
     "output_type": "execute_result"
    }
   ],
   "source": [
    "profissao.lstrip()"
   ]
  },
  {
   "cell_type": "code",
   "execution_count": 33,
   "id": "4863d756-c777-4c6c-b8de-ba4557b6f60f",
   "metadata": {},
   "outputs": [
    {
     "data": {
      "text/plain": [
       "'           Desenvolvedor'"
      ]
     },
     "execution_count": 33,
     "metadata": {},
     "output_type": "execute_result"
    }
   ],
   "source": [
    "profissao.rstrip()"
   ]
  },
  {
   "cell_type": "code",
   "execution_count": 34,
   "id": "f5125f4c-edd2-4d20-8616-21811e8c0fde",
   "metadata": {},
   "outputs": [
    {
     "data": {
      "text/plain": [
       "'Desenvolvedor'"
      ]
     },
     "execution_count": 34,
     "metadata": {},
     "output_type": "execute_result"
    }
   ],
   "source": [
    "# Como o retorno sempre será uma NOVA string, podemos então colocar mais métodos pertencentes ao objeto\n",
    "# ou seja, acumular métodos a partir de novas strings geradas, pois são passíveis de novos métodos do objeto\n",
    "\n",
    "profissao.lstrip().rstrip()"
   ]
  },
  {
   "cell_type": "code",
   "execution_count": 35,
   "id": "b6636917-4556-4b28-b3f7-d15d738a8a3a",
   "metadata": {},
   "outputs": [
    {
     "data": {
      "text/plain": [
       "'Desenvolvedor'"
      ]
     },
     "execution_count": 35,
     "metadata": {},
     "output_type": "execute_result"
    }
   ],
   "source": [
    "profissao.strip()"
   ]
  },
  {
   "cell_type": "code",
   "execution_count": 36,
   "id": "5a83ae5a-bfa3-4f63-bde7-fbf4c34ade8e",
   "metadata": {},
   "outputs": [
    {
     "data": {
      "text/plain": [
       "'DESENVOLVEDOR'"
      ]
     },
     "execution_count": 36,
     "metadata": {},
     "output_type": "execute_result"
    }
   ],
   "source": [
    "profissao.strip().upper()"
   ]
  },
  {
   "cell_type": "code",
   "execution_count": 37,
   "id": "710a5353-1f4d-499a-a983-5c6f8701ac11",
   "metadata": {},
   "outputs": [
    {
     "data": {
      "text/plain": [
       "'           Decenvolvedor       '"
      ]
     },
     "execution_count": 37,
     "metadata": {},
     "output_type": "execute_result"
    }
   ],
   "source": [
    "# Alguns métodos podem receber argumentos\n",
    "\n",
    "profissao.replace(\"s\", \"c\")"
   ]
  },
  {
   "cell_type": "code",
   "execution_count": 38,
   "id": "cafbda47-8877-4825-bbf6-667dc63d099f",
   "metadata": {},
   "outputs": [
    {
     "data": {
      "text/plain": [
       "True"
      ]
     },
     "execution_count": 38,
     "metadata": {},
     "output_type": "execute_result"
    }
   ],
   "source": [
    "# Alguns retornam valores como booleano\n",
    "\n",
    "profissao.strip().startswith(\"Des\")"
   ]
  },
  {
   "cell_type": "code",
   "execution_count": 39,
   "id": "4ffadd50-0fe4-4ac3-9ee3-f1fa59047bb3",
   "metadata": {},
   "outputs": [
    {
     "data": {
      "text/plain": [
       "False"
      ]
     },
     "execution_count": 39,
     "metadata": {},
     "output_type": "execute_result"
    }
   ],
   "source": [
    "profissao.strip().endswith(\"Des\")"
   ]
  },
  {
   "cell_type": "code",
   "execution_count": 40,
   "id": "0af3c3a5-e09b-4213-8bf8-a08ddb105b22",
   "metadata": {},
   "outputs": [
    {
     "data": {
      "text/plain": [
       "True"
      ]
     },
     "execution_count": 40,
     "metadata": {},
     "output_type": "execute_result"
    }
   ],
   "source": [
    "# Também podemos localizar substring dentro da string, assim como fazemos no sql\n",
    "# O que pode ser usado, por exemplo, pra vermos se uma cadeia de caracteres coincide\n",
    "# com a string, existe nela, está contido nela ou aparece dentro dela\n",
    "\"Des\" in profissao.strip()"
   ]
  },
  {
   "cell_type": "code",
   "execution_count": 41,
   "id": "ec16e8a0-0cdc-46d3-ac0d-7227c54a4b1b",
   "metadata": {},
   "outputs": [
    {
     "data": {
      "text/plain": [
       "False"
      ]
     },
     "execution_count": 41,
     "metadata": {},
     "output_type": "execute_result"
    }
   ],
   "source": [
    "\"Des\" not in profissao.strip()"
   ]
  },
  {
   "cell_type": "code",
   "execution_count": 42,
   "id": "6f9dc984-440b-4bce-a8e3-1b36b86c5ac3",
   "metadata": {},
   "outputs": [
    {
     "data": {
      "text/plain": [
       "'           Desenvolvedor       '"
      ]
     },
     "execution_count": 42,
     "metadata": {},
     "output_type": "execute_result"
    }
   ],
   "source": [
    "profissao.title()"
   ]
  },
  {
   "cell_type": "code",
   "execution_count": 82,
   "id": "0f01657d-5a9a-4a8d-82fb-4f259d1622a0",
   "metadata": {},
   "outputs": [
    {
     "data": {
      "text/plain": [
       "'t'"
      ]
     },
     "execution_count": 82,
     "metadata": {},
     "output_type": "execute_result"
    }
   ],
   "source": [
    "# Podemos utilizar também índices (veremos mais adiante) em strings e outros elementos, já que em toda string, lista etc. temos os índices dos conteúdos\n",
    "\"Teste\"[3]"
   ]
  },
  {
   "cell_type": "markdown",
   "id": "56ea194e",
   "metadata": {},
   "source": [
    "## Lists\n",
    "- A **list** is a mutable data structure that holds an ordered collection of values.\n",
    "- We often use the term **element** to describe an item in the list.\n",
    "- The length of a list is its number of elements.\n",
    "- The **append** method adds an element to the end of the list.\n",
    "- The **pop** methods remove the last element from the list.\n",
    "- The **in** and **not in** keywords check whether or not an element exists within a list."
   ]
  },
  {
   "cell_type": "code",
   "execution_count": 43,
   "id": "5f022822-f353-4e94-8103-c1bf6996aa09",
   "metadata": {},
   "outputs": [],
   "source": [
    "# As listas não possuem um tipo específico, podem mesclar diferentes dados\n",
    "# As listas são delimitadas por chaves, sendo a sintaxe básica [elemento1, elemento2, elementon...]\n",
    "# A ordem dos elementos na lista importa, entáo [4, 8] é diferente de [8, 4]"
   ]
  },
  {
   "cell_type": "code",
   "execution_count": 44,
   "id": "d52fa46c-f491-4d1d-af45-b321dbbbf19d",
   "metadata": {},
   "outputs": [
    {
     "data": {
      "text/plain": [
       "[4, 8, 12, 6, 4, 6, 7]"
      ]
     },
     "execution_count": 44,
     "metadata": {},
     "output_type": "execute_result"
    }
   ],
   "source": [
    "[4, 8, 12, 6, 4, 6, 7]"
   ]
  },
  {
   "cell_type": "code",
   "execution_count": 45,
   "id": "52960ad6-0956-43f8-8c4f-69dbaa4cd63e",
   "metadata": {},
   "outputs": [
    {
     "data": {
      "text/plain": [
       "[True, True, False, 1, 1.8]"
      ]
     },
     "execution_count": 45,
     "metadata": {},
     "output_type": "execute_result"
    }
   ],
   "source": [
    "[True, True, False, 1, 1.8]"
   ]
  },
  {
   "cell_type": "code",
   "execution_count": 46,
   "id": "94b88a57-3a02-42df-9fd7-6683adf57312",
   "metadata": {},
   "outputs": [],
   "source": [
    "# Podemos inserir uma lista junto de uma variável\n",
    "convidados = [\"Eu\", \"Vocë\", \"Ela\"]"
   ]
  },
  {
   "cell_type": "code",
   "execution_count": 47,
   "id": "8a47e35b-d76d-4c6e-848f-c804aa41a59c",
   "metadata": {},
   "outputs": [
    {
     "data": {
      "text/plain": [
       "['Eu', 'Vocë', 'Ela']"
      ]
     },
     "execution_count": 47,
     "metadata": {},
     "output_type": "execute_result"
    }
   ],
   "source": [
    "convidados"
   ]
  },
  {
   "cell_type": "code",
   "execution_count": 48,
   "id": "02c866fa-6d52-41aa-a151-e32c177ad109",
   "metadata": {},
   "outputs": [
    {
     "data": {
      "text/plain": [
       "3"
      ]
     },
     "execution_count": 48,
     "metadata": {},
     "output_type": "execute_result"
    }
   ],
   "source": [
    "# Podemos utilizar funções nas listas, como len, type, in dentre outros\n",
    "len(convidados)"
   ]
  },
  {
   "cell_type": "code",
   "execution_count": 49,
   "id": "efadfcdb-d9e7-4d05-8337-6f429e3d5096",
   "metadata": {},
   "outputs": [
    {
     "data": {
      "text/plain": [
       "list"
      ]
     },
     "execution_count": 49,
     "metadata": {},
     "output_type": "execute_result"
    }
   ],
   "source": [
    "type(convidados)"
   ]
  },
  {
   "cell_type": "code",
   "execution_count": 50,
   "id": "b7a39c8c-8322-4d5c-92ed-e3db9e5216d3",
   "metadata": {},
   "outputs": [
    {
     "data": {
      "text/plain": [
       "['Eu', 'Vocë', 'Ela', 'Aoba']"
      ]
     },
     "execution_count": 50,
     "metadata": {},
     "output_type": "execute_result"
    }
   ],
   "source": [
    "# Podemos utilizar métodos, mas aqui alguns deles irão mudar a lista, não criar uma nova instância como anteriormente\n",
    "# Alguns são os de inserção, modificação, drop etc.\n",
    "# Tipos básicos não são mutáveis com métodos, mas listas sim\n",
    "convidados.append(\"Aoba\")\n",
    "convidados"
   ]
  },
  {
   "cell_type": "code",
   "execution_count": 51,
   "id": "e009a5f8-d05a-4904-8fb8-15778ca4a53c",
   "metadata": {},
   "outputs": [
    {
     "data": {
      "text/plain": [
       "['Eu', 'Vocë', 'Ela']"
      ]
     },
     "execution_count": 51,
     "metadata": {},
     "output_type": "execute_result"
    }
   ],
   "source": [
    "# Podemos tirar o último elemento ou algum outro\n",
    "convidados.pop()\n",
    "convidados"
   ]
  },
  {
   "cell_type": "code",
   "execution_count": 52,
   "id": "dc1e9345-fa98-4a88-9a0e-228c6cda8a37",
   "metadata": {},
   "outputs": [
    {
     "data": {
      "text/plain": [
       "True"
      ]
     },
     "execution_count": 52,
     "metadata": {},
     "output_type": "execute_result"
    }
   ],
   "source": [
    "# Podemos utilizar métodos para verificação de valores nas listas, assim como podemos utilizá-los para valores nas strings e outros dados\n",
    "# Partimos do princípio que o método pesquisa algo dentro do tipo de dados e, como é uma lista o tipo, não estão caracteres dentro, mas vamos pesquisar seus ELEMENTOS (cada um dos itens inseridos), assim como nas strings procuramos caracteres e conjuntos de caracteres na cadeia (com a diferença de não ser separado)\n",
    "\"Eu\" in convidados"
   ]
  },
  {
   "cell_type": "markdown",
   "id": "39e4d0be",
   "metadata": {},
   "source": [
    "## Index Positions and Slicing\n",
    "- Python assigns every string character an **index position** (an order in line).\n",
    "- Python assigns every list element an **index position** (an order in line).\n",
    "- The index starts counting at 0.\n",
    "- Use square brackets to extract a character/element by index position.\n",
    "- Use negative values to extract a character/element relative to the end of the object.\n",
    "- Use slicing to extract multiple character/elements.\n",
    "- The first index in a slice is inclusive. The second index in a slice is exclusive (Python will go up to that index but *not* include its value)."
   ]
  },
  {
   "cell_type": "code",
   "execution_count": 53,
   "id": "8758fc13-0fcf-41e1-8f72-63a53d460de8",
   "metadata": {},
   "outputs": [
    {
     "data": {
      "text/plain": [
       "'t'"
      ]
     },
     "execution_count": 53,
     "metadata": {},
     "output_type": "execute_result"
    }
   ],
   "source": [
    "# Assim como as strings possuem um index em cada caracter que a compõe, as listas possuem index em seus valores, que são os itens\n",
    "teste = \"testando\"\n",
    "teste[3]"
   ]
  },
  {
   "cell_type": "code",
   "execution_count": 54,
   "id": "d90422d4-d924-4572-819f-cbd6cb9429bc",
   "metadata": {},
   "outputs": [
    {
     "data": {
      "text/plain": [
       "'n'"
      ]
     },
     "execution_count": 54,
     "metadata": {},
     "output_type": "execute_result"
    }
   ],
   "source": [
    "# Caso utilizemos o valor negativo, pegamos do final pro início, começando do -1\n",
    "teste[-3]"
   ]
  },
  {
   "cell_type": "code",
   "execution_count": 55,
   "id": "f4dd33c7-3aa2-47db-980c-ea6ced7c3fd7",
   "metadata": {},
   "outputs": [
    {
     "data": {
      "text/plain": [
       "'te'"
      ]
     },
     "execution_count": 55,
     "metadata": {},
     "output_type": "execute_result"
    }
   ],
   "source": [
    "# Podemos também coletar fatias de index de nossa lista (assim como fazemos no SQL)\n",
    "# O valor final é utilizado como limite e não é incluso na operação (pegaríamos 0, 1 e 2 apenas\n",
    "teste[0:2]\n",
    "# Podemos também digitar sem o zero, pois ele irá compreender que vamos da posição inicial até x-1\n",
    "teste[:2]"
   ]
  },
  {
   "cell_type": "code",
   "execution_count": 56,
   "id": "896260bd-644c-4c7f-9bf8-ca0aa30694b2",
   "metadata": {},
   "outputs": [
    {
     "data": {
      "text/plain": [
       "'stan'"
      ]
     },
     "execution_count": 56,
     "metadata": {},
     "output_type": "execute_result"
    }
   ],
   "source": [
    "# Caso coloquemos um final inexistente (superior), ele tentará puxar tudo o que é possível, considerando o limite\n",
    "# Funciona igual a deixar sem o 0, pois ele irá até o final da lista caso deixemos vazio ou então coloquemos um número maior\n",
    "teste[2:300]\n",
    "teste[2:]\n",
    "# Podemos utilizar negativos também\n",
    "teste[2:-2]"
   ]
  },
  {
   "cell_type": "code",
   "execution_count": 57,
   "id": "3d699799-eb6b-491c-a715-d66418e5f168",
   "metadata": {},
   "outputs": [],
   "source": [
    "# Assim, podemos aplicar estes conhecimentos às listas\n",
    "estou = [\"enlouquecendo\", \"pirando\", \"delirando\", \"amando\"]"
   ]
  },
  {
   "cell_type": "code",
   "execution_count": 58,
   "id": "ec10a22e-9a15-4ed4-a521-2c286af32497",
   "metadata": {},
   "outputs": [
    {
     "data": {
      "text/plain": [
       "'delirando'"
      ]
     },
     "execution_count": 58,
     "metadata": {},
     "output_type": "execute_result"
    }
   ],
   "source": [
    "estou[2]"
   ]
  },
  {
   "cell_type": "code",
   "execution_count": 59,
   "id": "bb86c514-285a-4fc1-918b-fa259755aac4",
   "metadata": {},
   "outputs": [
    {
     "data": {
      "text/plain": [
       "['delirando', 'amando']"
      ]
     },
     "execution_count": 59,
     "metadata": {},
     "output_type": "execute_result"
    }
   ],
   "source": [
    "estou[2:4]"
   ]
  },
  {
   "cell_type": "code",
   "execution_count": 60,
   "id": "c41fda02-e3eb-4adf-ae7d-d5d8ff221117",
   "metadata": {},
   "outputs": [
    {
     "data": {
      "text/plain": [
       "['enlouquecendo', 'pirando', 'delirando']"
      ]
     },
     "execution_count": 60,
     "metadata": {},
     "output_type": "execute_result"
    }
   ],
   "source": [
    "# Aqui o último index também é ignorado, como na string\n",
    "estou[0:3]"
   ]
  },
  {
   "cell_type": "code",
   "execution_count": 61,
   "id": "e6a17313-2536-4fb8-ae84-ff34b8a41708",
   "metadata": {},
   "outputs": [
    {
     "data": {
      "text/plain": [
       "['enlouquecendo', 'pirando']"
      ]
     },
     "execution_count": 61,
     "metadata": {},
     "output_type": "execute_result"
    }
   ],
   "source": [
    "estou[0:-2]"
   ]
  },
  {
   "cell_type": "code",
   "execution_count": 62,
   "id": "ee695c78-b5ec-4a8b-92b3-20efa4833dfd",
   "metadata": {},
   "outputs": [],
   "source": [
    "def is_long(lista):\n",
    "    return len(lista) > 5"
   ]
  },
  {
   "cell_type": "code",
   "execution_count": 63,
   "id": "5f03b5c9-40bb-49ea-bbf7-c04ad8bba640",
   "metadata": {},
   "outputs": [
    {
     "data": {
      "text/plain": [
       "False"
      ]
     },
     "execution_count": 63,
     "metadata": {},
     "output_type": "execute_result"
    }
   ],
   "source": [
    "is_long(estou)"
   ]
  },
  {
   "cell_type": "markdown",
   "id": "209b8921",
   "metadata": {},
   "source": [
    "## Dictionaries\n",
    "- A **dictionary** is a mutable, unordered collection of key-value pairs.\n",
    "- A **key** is a unique identifier for a value.\n",
    "- A **value** corresponds to the key. The values can contain duplicates.\n",
    "- Use a dictionary for **association** (i.e., to connect/map two values together). Use a list for **order**.\n",
    "- Declare a dictionary with a pair of curly braces.\n",
    "- Write a colon between every key and value.\n",
    "- Separate each key-value pair with a comma and a space.\n",
    "- The length of a dictionary is a count of its key-value pairs."
   ]
  },
  {
   "cell_type": "code",
   "execution_count": 64,
   "id": "8268bf89-5e60-428d-ad02-bde28a70b0c7",
   "metadata": {},
   "outputs": [],
   "source": [
    "# Dicionários são coleções de chaves e valores que podem ser modificados, complementados, decrementados etc.\n",
    "# Nenhuma chave vai ser identificada mais de uma vez e elas geralmente referenciam chaves mais \"literais\" para valores objetivos\n",
    "# Assim como em um dicionário, onde vamos pesquisar a palavra como uma chave e o número dela pode nos ajudar, então temos o item, que é nossa chave e ele referencia a um dado mais específico, que é o valor\n",
    "menu = {\"Filet Mignon\": 29.99, \"Podrão\": 10.50, \"Feijoada top\": 30 }"
   ]
  },
  {
   "cell_type": "code",
   "execution_count": 65,
   "id": "c7cf377b-63d9-4294-8042-273574023a10",
   "metadata": {},
   "outputs": [
    {
     "data": {
      "text/plain": [
       "3"
      ]
     },
     "execution_count": 65,
     "metadata": {},
     "output_type": "execute_result"
    }
   ],
   "source": [
    "# Podemos utilizar funções no dicionário (irá contar quantos pares temos, pois este será o elemento, ou o valor de unidade dele\n",
    "len(menu)"
   ]
  },
  {
   "cell_type": "code",
   "execution_count": 66,
   "id": "b509546c-472e-4395-a553-5a478cfd76ea",
   "metadata": {},
   "outputs": [
    {
     "data": {
      "text/plain": [
       "10.5"
      ]
     },
     "execution_count": 66,
     "metadata": {},
     "output_type": "execute_result"
    }
   ],
   "source": [
    "menu[\"Feijoada top\"]\n",
    "menu[\"Podrão\"]"
   ]
  },
  {
   "cell_type": "code",
   "execution_count": 67,
   "id": "e5bd4afb-aef1-41f2-bcda-95a53851ada0",
   "metadata": {},
   "outputs": [
    {
     "data": {
      "text/plain": [
       "{'Filet Mignon': 29.99, 'Podrão': 10.5, 'Feijoada top': 30, 'Adicional': 2}"
      ]
     },
     "execution_count": 67,
     "metadata": {},
     "output_type": "execute_result"
    }
   ],
   "source": [
    "# Podemos adicionar novas chaves declarando o dicionário e o item a ser inserido, seguido da sua correspondência\n",
    "menu[\"Adicional\"] = 2\n",
    "menu"
   ]
  },
  {
   "cell_type": "code",
   "execution_count": 68,
   "id": "94bda613-294e-4176-a909-7d8a81b8db5d",
   "metadata": {},
   "outputs": [
    {
     "data": {
      "text/plain": [
       "{'Filet Mignon': 29.99, 'Podrão': 11, 'Feijoada top': 30, 'Adicional': 2}"
      ]
     },
     "execution_count": 68,
     "metadata": {},
     "output_type": "execute_result"
    }
   ],
   "source": [
    "# Dessa maneira, podemos referenciar os itens do dicionário e fazer alterações também\n",
    "menu[\"Podrão\"] = 11\n",
    "menu"
   ]
  },
  {
   "cell_type": "code",
   "execution_count": 69,
   "id": "8c52679c-7243-4bcc-a0da-295edadfd5d8",
   "metadata": {},
   "outputs": [
    {
     "data": {
      "text/plain": [
       "2"
      ]
     },
     "execution_count": 69,
     "metadata": {},
     "output_type": "execute_result"
    }
   ],
   "source": [
    "# Podemos utilizar métodos nos dicionários para fazer exclusões (exemplo)\n",
    "# Ele retornará o valor e removerá ambos\n",
    "menu.pop(\"Adicional\")"
   ]
  },
  {
   "cell_type": "code",
   "execution_count": 70,
   "id": "d16a03ed-0792-4e03-928a-ed2b4a602e57",
   "metadata": {},
   "outputs": [
    {
     "data": {
      "text/plain": [
       "{'Filet Mignon': 29.99, 'Podrão': 11, 'Feijoada top': 30}"
      ]
     },
     "execution_count": 70,
     "metadata": {},
     "output_type": "execute_result"
    }
   ],
   "source": [
    "menu"
   ]
  },
  {
   "cell_type": "code",
   "execution_count": 71,
   "id": "efb57b4e-38f5-40d7-bfef-87ef3f633aa6",
   "metadata": {},
   "outputs": [
    {
     "data": {
      "text/plain": [
       "True"
      ]
     },
     "execution_count": 71,
     "metadata": {},
     "output_type": "execute_result"
    }
   ],
   "source": [
    "# Podemos utilizar operações booleanas\n",
    "\"Podrão\" in menu\n",
    "\"Podrão\" not in menu"
   ]
  },
  {
   "cell_type": "code",
   "execution_count": 74,
   "id": "9f0b28be-b0b3-4fb2-b0a8-cc2251babe98",
   "metadata": {},
   "outputs": [
    {
     "data": {
      "text/plain": [
       "False"
      ]
     },
     "execution_count": 74,
     "metadata": {},
     "output_type": "execute_result"
    }
   ],
   "source": [
    "# Podemos verificar os valores dos itens, pois de maneira padrão serão verificados as CHAVES\n",
    "11 in menu.values()\n",
    "11 not in menu.values()"
   ]
  },
  {
   "cell_type": "code",
   "execution_count": null,
   "id": "3af08c01-a6f2-49df-86a4-04b05df38f26",
   "metadata": {},
   "outputs": [],
   "source": []
  },
  {
   "cell_type": "code",
   "execution_count": null,
   "id": "8a248c07-5556-4029-b7a6-0fdcda1ed597",
   "metadata": {},
   "outputs": [],
   "source": []
  },
  {
   "cell_type": "code",
   "execution_count": null,
   "id": "12ec3ef8-3201-41e7-ac65-17aa58a14c93",
   "metadata": {},
   "outputs": [],
   "source": []
  },
  {
   "cell_type": "code",
   "execution_count": null,
   "id": "a18bb24e-cf04-44f0-9dcd-f9c9f2a336b8",
   "metadata": {},
   "outputs": [],
   "source": []
  },
  {
   "cell_type": "code",
   "execution_count": null,
   "id": "2b4a718e-5196-497a-b60e-dcffa0e0f165",
   "metadata": {},
   "outputs": [],
   "source": []
  },
  {
   "cell_type": "code",
   "execution_count": null,
   "id": "d08cbb8d-e161-4ff2-937e-b60360c0fe9a",
   "metadata": {},
   "outputs": [],
   "source": []
  },
  {
   "cell_type": "code",
   "execution_count": null,
   "id": "1756b888-74fa-4a08-99fc-3e9c9b6226d8",
   "metadata": {},
   "outputs": [],
   "source": []
  },
  {
   "cell_type": "code",
   "execution_count": null,
   "id": "34eefda4-bc68-4661-8f3b-281f16006127",
   "metadata": {},
   "outputs": [],
   "source": []
  },
  {
   "cell_type": "markdown",
   "id": "f266aada-0759-4373-8874-7a6080a6a1a2",
   "metadata": {},
   "source": [
    "## Classes\n",
    "- A **class** is a blueprint/template for creating objects.\n",
    "- A **class** defines the methods/functionalities that objects made from it will have.\n",
    "- An object is called an **instance** of the class it is made from.\n",
    "- The act of creating an object from a class is called **instantiation**.\n",
    "- Every time we've worked with a Python object, it's been \"instantiated\" from a class.\n",
    "- In real world terms, a class is the blueprint and the house we build is the instance/object.\n",
    "- Syntax options like `\"\"` or `[]` or `{}` are shortcuts for instantiation.\n",
    "- For other classes, we'll need to use `class()` syntax to instantiate an object.\n",
    "- Much like functions and methods, some class instantiations will require arguments."
   ]
  },
  {
   "cell_type": "markdown",
   "id": "a62a901f-1f47-4682-925b-1564312e1fc2",
   "metadata": {
    "tags": []
   },
   "source": [
    "<img src=\"Blueprint.png\" width=\"600\" height=\"410\">"
   ]
  },
  {
   "cell_type": "markdown",
   "id": "494bc843-ce24-4e87-a8ea-634b203f7b23",
   "metadata": {},
   "source": [
    "- As classes são como plantas, ou seja, um esquema que vai definir como a casa será, por mais que ela tenha suas especificidades nas cores, móveis etc.\n",
    "- Logo, ela seguirá aquela estrutura para ser criada, mas será individual\n",
    "- Em python, as classes são como plantas, que vão definir as funcionalidades de objetos inclusos nela\n",
    "- Classes que temos como exemplo são strings, que possuem suas funcionalidades como upper, lower etc. de acordo com a estrutura da classe, faznedo com que funcione conforme ela estrutura\n",
    "- Definimos nas classes os métodos que o dicionário terá, sendo que o objeto criado a partir dessa classe será uma instância\n",
    "- Criar um objeto a partir de uma classe (que é seu projeto e sua estrutura que definem suas funcionalidades) é chamado de instanciação\n",
    "- Logo, o projeto é a classe e a casa o objeto\n",
    "- A sintaxe para criação de uma classe é classe(), muito semelhante a uma função\n",
    "- Cada vez que chamamos a classe(), estamos instanciando um novo objeto e o python, por convenção, deixa outros tipos como \"\", [], {} de chamadas para especificar classes, diferenciar e tornar mais fácil a comrpeensão das diferentes que existem\n",
    "- Várias instâncias de classes vão necessitar de argumentos para serem criadas, como uma cor de porta que tem de ser escolhida para seguir a estrutura\n",
    "- Toda vez que utilizamos bibliotecas em python, estamos adquirindo um novo conjunto de classes com novas funcionalidades, que vão instanciar novos objetos específicos e de diferentes objetivos\n",
    "- Ou seja, uma instância pode variar da outra, mas ainda assim virão da mesma classe pois possuem a mesma estrutura, enquanto outras se diferenciam por estrutura e funcionalidades\n",
    "- A classe é o termo que utilizamos pra definir o projeto e a estrutura (funções) do objeto e o objeto é uma instância criada a partir dessa clase\n"
   ]
  },
  {
   "cell_type": "markdown",
   "id": "40053702-9cb6-4f86-a03e-84fa97fb8b4e",
   "metadata": {},
   "source": [
    "## Navigating Libraries using Jupyter Lab"
   ]
  },
  {
   "cell_type": "code",
   "execution_count": 78,
   "id": "20545267-3f61-4c06-8318-601e9fae4b1e",
   "metadata": {
    "tags": []
   },
   "outputs": [],
   "source": [
    "# Podemos importar bibliotecas como a Pandas com a estrutura\n",
    "import pandas as pd\n",
    "# O alias será utilizado para tudo o que for da bilbioteca, afinal ela não é nativa (por questões de memória e desempenho, não temos todas as bibliotecas carregadas)"
   ]
  },
  {
   "cell_type": "code",
   "execution_count": 81,
   "id": "a6b95663-b6cf-426a-8464-349813fbe947",
   "metadata": {},
   "outputs": [
    {
     "ename": "TypeError",
     "evalue": "ArrowDtype.__init__() missing 1 required positional argument: 'pyarrow_dtype'",
     "output_type": "error",
     "traceback": [
      "\u001b[1;31m---------------------------------------------------------------------------\u001b[0m",
      "\u001b[1;31mTypeError\u001b[0m                                 Traceback (most recent call last)",
      "Cell \u001b[1;32mIn[81], line 3\u001b[0m\n\u001b[0;32m      1\u001b[0m \u001b[38;5;66;03m# Depois do ponto, podemos clicar em tab para saber todas as funcionalidades e classes da biblioteca que podemos utilizar\u001b[39;00m\n\u001b[0;32m      2\u001b[0m \u001b[38;5;66;03m# Serão distintas as classes, funções, módulos e outros separados por categoria\u001b[39;00m\n\u001b[1;32m----> 3\u001b[0m pd\u001b[38;5;241m.\u001b[39mArrowDtype()\n\u001b[0;32m      4\u001b[0m \u001b[38;5;66;03m# Instâncias dentro da biblioteca são geralmente metadados ou objetos criados a partir de uma classe para exemplificar ou especificar algo (não precisamos dar importância)\u001b[39;00m\n\u001b[0;32m      5\u001b[0m \u001b[38;5;66;03m# Módulo é como uma pasta em nosso computador, que contém outras pastas dentro e assim por diante. Logo, se utilizarmos um módulo, podemos acessar mais funções ou características além dele, especificando novos caminhos e especificidades (cada módulo vai obrigatoriamente precisar de mais um nível)\u001b[39;00m\n\u001b[0;32m      6\u001b[0m pd\u001b[38;5;241m.\u001b[39mapi\u001b[38;5;241m.\u001b[39mextensions\u001b[38;5;241m.\u001b[39mtake\n",
      "\u001b[1;31mTypeError\u001b[0m: ArrowDtype.__init__() missing 1 required positional argument: 'pyarrow_dtype'"
     ]
    }
   ],
   "source": [
    "# Depois do ponto, podemos clicar em tab para saber todas as funcionalidades e classes da biblioteca que podemos utilizar\n",
    "# Serão distintas as classes, funções, módulos e outros separados por categoria\n",
    "pd.ArrowDtype()\n",
    "# Instâncias dentro da biblioteca são geralmente metadados ou objetos criados a partir de uma classe para exemplificar ou especificar algo (não precisamos dar importância)\n",
    "# Módulo é como uma pasta em nosso computador, que contém outras pastas dentro e assim por diante. Logo, se utilizarmos um módulo, podemos acessar mais funções ou características além dele, especificando novos caminhos e especificidades (cada módulo vai obrigatoriamente precisar de mais um nível)\n",
    "# Módulos sempre vão referenciar a níveis mais baixos que especificam funções ou estruturas dentro de cada nível, direcionando para o que o módulo vai fazer ou onde vai fazer (por exemplo), assim como podemos fazer em PBI por exemplo com date.year etc.\n",
    "pd.api.extensions.take"
   ]
  }
 ],
 "metadata": {
  "kernelspec": {
   "display_name": "anaconda-panel-2023.05-py310",
   "language": "python",
   "name": "conda-env-anaconda-panel-2023.05-py310-py"
  },
  "language_info": {
   "codemirror_mode": {
    "name": "ipython",
    "version": 3
   },
   "file_extension": ".py",
   "mimetype": "text/x-python",
   "name": "python",
   "nbconvert_exporter": "python",
   "pygments_lexer": "ipython3",
   "version": "3.11.5"
  }
 },
 "nbformat": 4,
 "nbformat_minor": 5
}
