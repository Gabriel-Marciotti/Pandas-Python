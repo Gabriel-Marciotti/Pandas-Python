{
 "cells": [
  {
   "cell_type": "markdown",
   "id": "953f78eb",
   "metadata": {},
   "source": [
    "# DataFrames I"
   ]
  },
  {
   "cell_type": "code",
   "execution_count": 1,
   "id": "b098a2b1",
   "metadata": {
    "tags": []
   },
   "outputs": [],
   "source": [
    "# Lembrar sempre do básico\n",
    "import pandas as pd"
   ]
  },
  {
   "cell_type": "markdown",
   "id": "a0d5e19f",
   "metadata": {},
   "source": [
    "## Methods and Attributes between Series and DataFrames\n",
    "- A **DataFrame** is a 2-dimensional table consisting of rows and columns.\n",
    "- Pandas uses a `NaN` designation for cells that have a missing value. It is short for \"not a number\". Most operations on `NaN` values will produce `NaN` values.\n",
    "- Like with a **Series**, Pandas assigns an index position/label to each **DataFrame** row.\n",
    "- The **DataFrame** and **Series** have common and exclusive methods/attributes.\n",
    "- The `hasnans` attribute exists only a **Series**. The `columns` attribute exists only on a **DataFrame**.\n",
    "- Some methods/attributes will return different types of data.\n",
    "- The `info` method returns a summary of the pandas object."
   ]
  },
  {
   "cell_type": "code",
   "execution_count": 2,
   "id": "a0f61f9e-50bf-43e8-bcb5-15e7bbf35369",
   "metadata": {
    "tags": []
   },
   "outputs": [],
   "source": [
    "# Podemos pensar nos dataframes, um pouco mais além da definição de tabelas já conhecida, como diversas séries interrralacionadas, podendo ser utilizadas unicamente e podendo aplicar todos os conceitos matemáticos e de extração ou visualização de maneira mais ampla e diversificada nesta, como estamos habituados no SQL, por exemplo, mas ainda sabemos que temos a unidade a parte e que relacionamos a outras e podemos utilizar os conceitos, ou seja, são várias partes compondo um todo\n",
    "nba = pd.read_csv(\"nba.csv\")\n"
   ]
  },
  {
   "cell_type": "code",
   "execution_count": 3,
   "id": "596e9443-20f1-479e-89c7-d80169a5a60f",
   "metadata": {
    "tags": []
   },
   "outputs": [],
   "source": [
    "# Veremos que alguns métodos atuam diferente das séries nos dataframes, assim como existem métodos exclusivos para cada um, sendo assim, operam de maneiras diferentes mesmo com várias características iguais e de mesma função\n",
    "serie = pd.Series([1, 2, 3, 4, 5])"
   ]
  },
  {
   "cell_type": "code",
   "execution_count": 4,
   "id": "ab3396a6-7c23-4e27-8738-91f209f6f610",
   "metadata": {
    "tags": []
   },
   "outputs": [
    {
     "data": {
      "text/html": [
       "<div>\n",
       "<style scoped>\n",
       "    .dataframe tbody tr th:only-of-type {\n",
       "        vertical-align: middle;\n",
       "    }\n",
       "\n",
       "    .dataframe tbody tr th {\n",
       "        vertical-align: top;\n",
       "    }\n",
       "\n",
       "    .dataframe thead th {\n",
       "        text-align: right;\n",
       "    }\n",
       "</style>\n",
       "<table border=\"1\" class=\"dataframe\">\n",
       "  <thead>\n",
       "    <tr style=\"text-align: right;\">\n",
       "      <th></th>\n",
       "      <th>Name</th>\n",
       "      <th>Team</th>\n",
       "      <th>Position</th>\n",
       "      <th>Height</th>\n",
       "      <th>Weight</th>\n",
       "      <th>College</th>\n",
       "      <th>Salary</th>\n",
       "    </tr>\n",
       "  </thead>\n",
       "  <tbody>\n",
       "    <tr>\n",
       "      <th>587</th>\n",
       "      <td>Ryan Rollins</td>\n",
       "      <td>Washington Wizards</td>\n",
       "      <td>G</td>\n",
       "      <td>6-3</td>\n",
       "      <td>180.0</td>\n",
       "      <td>Toledo</td>\n",
       "      <td>1719864.0</td>\n",
       "    </tr>\n",
       "    <tr>\n",
       "      <th>588</th>\n",
       "      <td>Landry Shamet</td>\n",
       "      <td>Washington Wizards</td>\n",
       "      <td>G</td>\n",
       "      <td>6-4</td>\n",
       "      <td>190.0</td>\n",
       "      <td>Wichita State</td>\n",
       "      <td>10250000.0</td>\n",
       "    </tr>\n",
       "    <tr>\n",
       "      <th>589</th>\n",
       "      <td>Tristan Vukcevic</td>\n",
       "      <td>Washington Wizards</td>\n",
       "      <td>F</td>\n",
       "      <td>6-10</td>\n",
       "      <td>220.0</td>\n",
       "      <td>Real Madrid</td>\n",
       "      <td>NaN</td>\n",
       "    </tr>\n",
       "    <tr>\n",
       "      <th>590</th>\n",
       "      <td>Delon Wright</td>\n",
       "      <td>Washington Wizards</td>\n",
       "      <td>G</td>\n",
       "      <td>6-5</td>\n",
       "      <td>185.0</td>\n",
       "      <td>Utah</td>\n",
       "      <td>8195122.0</td>\n",
       "    </tr>\n",
       "    <tr>\n",
       "      <th>591</th>\n",
       "      <td>NaN</td>\n",
       "      <td>NaN</td>\n",
       "      <td>NaN</td>\n",
       "      <td>NaN</td>\n",
       "      <td>NaN</td>\n",
       "      <td>NaN</td>\n",
       "      <td>NaN</td>\n",
       "    </tr>\n",
       "  </tbody>\n",
       "</table>\n",
       "</div>"
      ],
      "text/plain": [
       "                 Name                Team Position Height  Weight  \\\n",
       "587      Ryan Rollins  Washington Wizards        G    6-3   180.0   \n",
       "588     Landry Shamet  Washington Wizards        G    6-4   190.0   \n",
       "589  Tristan Vukcevic  Washington Wizards        F   6-10   220.0   \n",
       "590      Delon Wright  Washington Wizards        G    6-5   185.0   \n",
       "591               NaN                 NaN      NaN    NaN     NaN   \n",
       "\n",
       "           College      Salary  \n",
       "587         Toledo   1719864.0  \n",
       "588  Wichita State  10250000.0  \n",
       "589    Real Madrid         NaN  \n",
       "590           Utah   8195122.0  \n",
       "591            NaN         NaN  "
      ]
     },
     "execution_count": 4,
     "metadata": {},
     "output_type": "execute_result"
    }
   ],
   "source": [
    "#Método head\n",
    "nba.head(n=1)\n",
    "nba.head()\n",
    "\n",
    "#Método tail\n",
    "nba.tail()\n",
    "nba.tail(5)"
   ]
  },
  {
   "cell_type": "code",
   "execution_count": 5,
   "id": "fdad99e0-2ff6-43e3-bebb-5543cb5e91a3",
   "metadata": {
    "tags": []
   },
   "outputs": [
    {
     "data": {
      "text/plain": [
       "array([['Saddiq Bey', 'Atlanta Hawks', 'F', ..., 215.0, 'Villanova',\n",
       "        4556983.0],\n",
       "       ['Bogdan Bogdanovic', 'Atlanta Hawks', 'G', ..., 225.0,\n",
       "        'Fenerbahce', 18700000.0],\n",
       "       ['Kobe Bufkin', 'Atlanta Hawks', 'G', ..., 195.0, 'Michigan',\n",
       "        4094244.0],\n",
       "       ...,\n",
       "       ['Tristan Vukcevic', 'Washington Wizards', 'F', ..., 220.0,\n",
       "        'Real Madrid', nan],\n",
       "       ['Delon Wright', 'Washington Wizards', 'G', ..., 185.0, 'Utah',\n",
       "        8195122.0],\n",
       "       [nan, nan, nan, ..., nan, nan, nan]], dtype=object)"
      ]
     },
     "execution_count": 5,
     "metadata": {},
     "output_type": "execute_result"
    }
   ],
   "source": [
    "# atributo Index\n",
    "nba.index\n",
    "\n",
    "# atributo Values - Todos representados em um array de dados, a estrutura mais básica de armazenamento de múltiplos valores, sendo que cada item do array é uma nova lista com os atributos, ou seja, um conteiner de informações e nestes conteiners vai constar os valores de cada item do dataframe, assim como armazena de cada item de uma lista ou de um dicionário\n",
    "serie.values\n",
    "nba.values"
   ]
  },
  {
   "cell_type": "code",
   "execution_count": 6,
   "id": "02a7aa10-8161-4f5e-ad59-91f6f8266782",
   "metadata": {
    "tags": []
   },
   "outputs": [
    {
     "data": {
      "text/plain": [
       "Name         object\n",
       "Team         object\n",
       "Position     object\n",
       "Height       object\n",
       "Weight      float64\n",
       "College      object\n",
       "Salary      float64\n",
       "dtype: object"
      ]
     },
     "execution_count": 6,
     "metadata": {},
     "output_type": "execute_result"
    }
   ],
   "source": [
    "# Shape ou seja, número d eregistros e colunas, sendo que o index nunca é contabilizado e não representa coluna\n",
    "nba.shape\n",
    "serie.shape\n",
    "\n",
    "# dtypes vai descrever os tipos de dados, sendo que apresenta a maneira acima na hierarquia, ou seja, se tiver int e object (string) na coluna, vai considerar o objeto\n",
    "# Números inteiros com campos vazios na coluna serão convertidos em float por regra, para aceitar os dados nulos, então durante identificação do tipo, serão float\n",
    "nba.dtypes"
   ]
  },
  {
   "cell_type": "code",
   "execution_count": 7,
   "id": "0916f365-76be-4cce-bc1e-4957edbc0f97",
   "metadata": {
    "tags": []
   },
   "outputs": [
    {
     "ename": "AttributeError",
     "evalue": "'DataFrame' object has no attribute 'hasnans'",
     "output_type": "error",
     "traceback": [
      "\u001b[1;31m---------------------------------------------------------------------------\u001b[0m",
      "\u001b[1;31mAttributeError\u001b[0m                            Traceback (most recent call last)",
      "\u001b[1;32m~\\AppData\\Local\\Temp\\ipykernel_11064\\2450815264.py\u001b[0m in \u001b[0;36m?\u001b[1;34m()\u001b[0m\n\u001b[0;32m      1\u001b[0m \u001b[1;31m# hasnans (existem vazios) não funciona no dataframe, apenas nas séries, um exemplo de casos onde podemos extrair a série para utilizar o método\u001b[0m\u001b[1;33m\u001b[0m\u001b[1;33m\u001b[0m\u001b[0m\n\u001b[0;32m      2\u001b[0m \u001b[0mserie\u001b[0m\u001b[1;33m.\u001b[0m\u001b[0mhasnans\u001b[0m\u001b[1;33m\u001b[0m\u001b[1;33m\u001b[0m\u001b[0m\n\u001b[1;32m----> 3\u001b[1;33m \u001b[0mnba\u001b[0m\u001b[1;33m.\u001b[0m\u001b[0mhasnans\u001b[0m\u001b[1;33m\u001b[0m\u001b[1;33m\u001b[0m\u001b[0m\n\u001b[0m",
      "\u001b[1;32m~\\anaconda3\\Lib\\site-packages\\pandas\\core\\generic.py\u001b[0m in \u001b[0;36m?\u001b[1;34m(self, name)\u001b[0m\n\u001b[0;32m   5985\u001b[0m             \u001b[1;32mand\u001b[0m \u001b[0mname\u001b[0m \u001b[1;32mnot\u001b[0m \u001b[1;32min\u001b[0m \u001b[0mself\u001b[0m\u001b[1;33m.\u001b[0m\u001b[0m_accessors\u001b[0m\u001b[1;33m\u001b[0m\u001b[1;33m\u001b[0m\u001b[0m\n\u001b[0;32m   5986\u001b[0m             \u001b[1;32mand\u001b[0m \u001b[0mself\u001b[0m\u001b[1;33m.\u001b[0m\u001b[0m_info_axis\u001b[0m\u001b[1;33m.\u001b[0m\u001b[0m_can_hold_identifiers_and_holds_name\u001b[0m\u001b[1;33m(\u001b[0m\u001b[0mname\u001b[0m\u001b[1;33m)\u001b[0m\u001b[1;33m\u001b[0m\u001b[1;33m\u001b[0m\u001b[0m\n\u001b[0;32m   5987\u001b[0m         ):\n\u001b[0;32m   5988\u001b[0m             \u001b[1;32mreturn\u001b[0m \u001b[0mself\u001b[0m\u001b[1;33m[\u001b[0m\u001b[0mname\u001b[0m\u001b[1;33m]\u001b[0m\u001b[1;33m\u001b[0m\u001b[1;33m\u001b[0m\u001b[0m\n\u001b[1;32m-> 5989\u001b[1;33m         \u001b[1;32mreturn\u001b[0m \u001b[0mobject\u001b[0m\u001b[1;33m.\u001b[0m\u001b[0m__getattribute__\u001b[0m\u001b[1;33m(\u001b[0m\u001b[0mself\u001b[0m\u001b[1;33m,\u001b[0m \u001b[0mname\u001b[0m\u001b[1;33m)\u001b[0m\u001b[1;33m\u001b[0m\u001b[1;33m\u001b[0m\u001b[0m\n\u001b[0m",
      "\u001b[1;31mAttributeError\u001b[0m: 'DataFrame' object has no attribute 'hasnans'"
     ]
    }
   ],
   "source": [
    "# hasnans (existem vazios) não funciona no dataframe, apenas nas séries, um exemplo de casos onde podemos extrair a série para utilizar o método\n",
    "serie.hasnans\n",
    "nba.hasnans"
   ]
  },
  {
   "cell_type": "code",
   "execution_count": null,
   "id": "57ffa4ed-ec8a-4b81-81c3-e72324e514bd",
   "metadata": {
    "tags": []
   },
   "outputs": [],
   "source": [
    "# columns (não funciona em séries) vai nos dar as colunas sempre em ordem crescente da esquerda para a direita (pois as colunas também possuem index)\n",
    "nba.columns"
   ]
  },
  {
   "cell_type": "code",
   "execution_count": null,
   "id": "29e89392-c9d0-4c86-8a18-939eb3c3c8b2",
   "metadata": {
    "tags": []
   },
   "outputs": [],
   "source": [
    "# Demonstranmos então a estrutura de maneira completa, os eixos que suportam o dataframe, como tipo, index, range, todos juntos em um só de maneira generalista que podemos utilizar para pegar informações ou então utilizar separados para o código e para tarefas específicas\n",
    "serie.axes\n",
    "nba.axes"
   ]
  },
  {
   "cell_type": "code",
   "execution_count": null,
   "id": "d415ecf2-31ee-4e3a-b7f7-bb77d105b062",
   "metadata": {
    "tags": []
   },
   "outputs": [],
   "source": [
    "# Métodos para informações básicas e mais diversificadas, porém agrupadas como anteriormente, então desta vez serão mais específicas e representando outras características \"detalhistas\"\n",
    "# Notamos que a quantidade de not null está como 591 e nosso index vai até 591, porém temos 592 itens por ele começar em 0. É um detalhe mas temos de nos atentar para não errar e ter consciência do index em zero para contar corretamente e nestes casos não errar ou se confundir, logo, são 591 preenchidos e 1 não preenchido, sendo o total 592 pois o index começa em 0\n",
    "serie.info()\n",
    "nba.info()"
   ]
  },
  {
   "cell_type": "markdown",
   "id": "62207b08",
   "metadata": {},
   "source": [
    "## Differences between Shared Methods\n",
    "- The `sum` method adds a **Series's** values.\n",
    "- On a **DataFrame**, the `sum` method defaults to adding the values by traversing the index (row values).\n",
    "- The `axis` parameter customizes the direction that we add across. Pass `\"columns\"` or `1` to add \"across\" the columns."
   ]
  },
  {
   "cell_type": "code",
   "execution_count": null,
   "id": "04fb2051-2756-4f17-9672-faad84f290f3",
   "metadata": {
    "tags": []
   },
   "outputs": [],
   "source": [
    "#Podemos do mesmo modo manipular colunas, indexe valores a serem utilizados na importação e criação do dataframme, assim como utilizar uma série para isso ou outros valores externos (desde que coincidam e façam sentido) para isso, ou seja, temos as mesmas propriedades\n",
    "s = pd.Series([1, 2, 3, 4, 5])\n",
    "rev = pd.read_csv(\"revenue.csv\", index_col=\"Date\")\n",
    "rev"
   ]
  },
  {
   "cell_type": "code",
   "execution_count": null,
   "id": "583fc4c9-7d6d-4d88-a520-bc3433e442aa",
   "metadata": {
    "tags": []
   },
   "outputs": [],
   "source": [
    "# Apresentando a diferença de alguns métodos, partindo o sum entre séries e dataframes, que vão operar de maneiras diferentes e temos de considerar o que queremos fazer e como ele vai fazer para cada caso\n",
    "s.sum() # Vai somar apenas a coluna e apresentar\n",
    "rev.sum() # Soma cada coluna e apresenta uma lista com seus nomes, resultado da soma de cada coluna e tipo resultante da soma, obedecendo as ordens hierárquicas\n",
    "rev.sum(axis=\"columns\") # O axis representa o sentido da operação, quando presente nos métodos, ou seja, de qual eixo vamos partir, o padrão é do x, que é o index, então classificamos cada coluna e somamos, mas podemos trocar para o y, classificando cada linha e somando no outro sentido, ou seja, podemos definir orientação e eixo da operação, métodos, funções ou tabelas em que queiramos utilizar e seja necessário"
   ]
  },
  {
   "cell_type": "code",
   "execution_count": null,
   "id": "463a501f-8af3-49e0-93a3-a35327fd3b73",
   "metadata": {},
   "outputs": [],
   "source": [
    "# Sempre devemos prestar atenção no que estamos utilizando para então conseguir operar, ou seja, se estamos utilizando uma série, um dataframe ou outro objeto, já que cada um opera e é apresentado de um jeito, fazendo com que tenhamos ciência das diferenças, exclusividades, características e usabilidade de cada um"
   ]
  },
  {
   "cell_type": "markdown",
   "id": "b55398f0",
   "metadata": {},
   "source": [
    "## Select One Column from a DataFrame\n",
    "- We can use attribute syntax (`df.column_name`) to select a column from a **DataFrame**. The syntax will not work if the column name has spaces.\n",
    "- We can also use square bracket syntax (`df[\"column name\"]`) which will work for any column name.\n",
    "- Pandas extracts a column from a **DataFrame** as a **Series**.\n",
    "- The **Series** is a view, so changes to the **Series** *will* affect the **DataFrame**.\n",
    "- Pandas will display a warning if you mutate the **Series**. Use the `copy` method to create a duplicate."
   ]
  },
  {
   "cell_type": "code",
   "execution_count": null,
   "id": "95716d00-dcc4-44fe-9d38-39ab0a2ce782",
   "metadata": {
    "tags": []
   },
   "outputs": [],
   "source": [
    "nba = pd.read_csv(\"nba.csv\")\n",
    "nba"
   ]
  },
  {
   "cell_type": "code",
   "execution_count": null,
   "id": "5be97bda-a164-4435-a662-7c241b1de4d6",
   "metadata": {
    "tags": []
   },
   "outputs": [],
   "source": [
    "# Podemos extrair colunas específicas, por isso, devemos tomar cuidado no momento de nomear colunas ou valores (por exemplo) para não coincidir ou conflitar com métodos, funções etc. (case sensitive)\n",
    "nba.Team\n",
    "nba.Name\n",
    "\n",
    "# Não vai funcionar caso a coluna tenha espaços no nome, logo, preferimos soluções que em todos os casos vão funcionar, se tratando de boa prática pois em todos os cenários funcionam do mesmo jeito, sendo assim, utilizamos a chamada como uma string, estamos utilizando ainda do mesmo modo, mas realizando a camada de valor de modo que é considerada um texto e não exato, podendo ter espeços etc. já que no python não podem ahver espaços na fórmula, pois ele vai reconhecer como outra como nba.Team Counter, desse modo, ele identifica como nba.(\"Team Counter\")\n",
    "nba[\"Team\"]"
   ]
  },
  {
   "cell_type": "code",
   "execution_count": null,
   "id": "572b9d22-8105-4246-9f35-306d5357da86",
   "metadata": {
    "tags": []
   },
   "outputs": [],
   "source": [
    "# Podemos então extrair as colunas\n",
    "\n",
    "names = nba[\"Name\"]\n",
    "names.iloc[2]\n",
    "names.iloc[2:10]"
   ]
  },
  {
   "cell_type": "code",
   "execution_count": null,
   "id": "a3c83066-dbb5-4fea-85c0-f96ae33cb106",
   "metadata": {
    "tags": []
   },
   "outputs": [],
   "source": [
    "# Lembrando que em casos de substituição temos de trabalhar ou com uma view, que é o caso acima, estamos apenas atribuindo uma view a uma variável (lógico que se definirmos a igualdade logo após a variável, ela assume o valor, então temos de especificar como queremos alterar pois ela ganha atributos de séries ou dataframes, mas temos de especificar pois por exemplo names = \"oi\" não muda a série, mas sim atribui oi à variável, então temos de especificar e mudar em todos casos de definir variáveis, como abaixo), mas se inserirmos um novo valor, irá trocar no dataframe. Em cópias fazemos com que aquela extração se destaque e não tenha mais relação, ou seja, não altere a fonte\n",
    "names.iloc[:] = \"Mudoou\"\n",
    "names2 = nba[\"Team\"].copy()\n",
    "names2.iloc[:] = \"Não mudou naaada (apenas na cópia)\"\n",
    "names2\n",
    "names\n",
    "nba\n",
    "\n",
    "# ATENÇÃO PARA VIEWS E CÓPIAS A FIM DE NÃO GERAR EFEITOS COLATERAIS COM O CÓDIGO"
   ]
  },
  {
   "cell_type": "markdown",
   "id": "771e31d7",
   "metadata": {},
   "source": [
    "## Select Multiple Columns from a DataFrame\n",
    "- Use square brackets with a list of names to extract multiple **DataFrame** columns.\n",
    "- Pandas stores the result in a new **DataFrame** (a copy)."
   ]
  },
  {
   "cell_type": "code",
   "execution_count": null,
   "id": "46886e4d-002e-432c-bbd6-4365c56882b3",
   "metadata": {
    "tags": []
   },
   "outputs": [],
   "source": [
    "nba = pd.read_csv(\"nba.csv\")"
   ]
  },
  {
   "cell_type": "code",
   "execution_count": null,
   "id": "771c1a66-b619-4b3d-a3be-23c25caafd47",
   "metadata": {
    "tags": []
   },
   "outputs": [],
   "source": [
    "# Existem vários tipos de extração, a que vamos ver retorna múltiplas colunas como uma cópia e outras como uma view, então temos de prestar atenção para não sobrescrever valores indevidos e utilizar cópias quando queremos separar os dados, de forma a estar atento para utilizar o método correto de acordo com o que necessitamos\n",
    "nba[[\"Name\", \"Team\"]]\n",
    "nba[[\"Team\", \"Name\"]] # Trocando a posição, lembrando que ainda temos a noção de listas, ou seja, um valor de extração não existe, nem intervalos, mas valores separados (múltiplos valores) exigem pois vão ser uma lista de valores, um conjunto a ser extraído\n",
    "\n",
    "selecao_de_colunas = [\"Salary\", \"Name\", \"Team\"]\n",
    "nba[selecao_de_colunas] # Um exemplo prático de onde podemos utilizar variáveis para conduzir seleções e fazer com que o usuário identifique e puxe o que ele quer ou então para utilizar em fórmulas e altoritmos que vão relacionar variáveis e puxar dados a partir delas (são opções, porém as possibilidades são infinitas)"
   ]
  },
  {
   "cell_type": "markdown",
   "id": "7a5e932e",
   "metadata": {},
   "source": [
    "## Add New Column to DataFrame\n",
    "- Use square bracket extraction syntax with an equal sign to add a new **Series** to a **DataFrame**.\n",
    "- The `insert` method allows us to insert an element at a specific column index.\n",
    "- On the right-hand side, we can reference an existing **DataFrame** column and perform a broadcasting operation on it to create the new **Series**."
   ]
  },
  {
   "cell_type": "code",
   "execution_count": null,
   "id": "14418ecb-5a16-4dd1-83cc-19cdd533f421",
   "metadata": {},
   "outputs": [],
   "source": [
    "nba = pd.read_csv(\"nba.csv\")"
   ]
  },
  {
   "cell_type": "code",
   "execution_count": null,
   "id": "c66ca9b8-5989-48c8-bda2-0946f0ef27ba",
   "metadata": {},
   "outputs": [],
   "source": [
    "# Podemos adicionar novas colunas no dataframe, assim como manipulamos um banco de dados\n",
    "nba[\"Sport\"] = \"Basketball\"\n",
    "nba\n",
    "# Para adicionar uma coluna, muito mais simples do que em outras linguagens, basta declararmos o nome da inexistente e na igualdade podemos passar um valor (vai assumir em todos os campos) ou uma série, que neste caso seria útil para definirmos a igualdade e já incluirmos os valores"
   ]
  },
  {
   "cell_type": "code",
   "execution_count": null,
   "id": "7471cc75-63aa-40f1-8cf0-2690c5376d23",
   "metadata": {
    "scrolled": true
   },
   "outputs": [],
   "source": [
    "# Podemos também adicionar e posicionar a nova coluna com a sintaxe\n",
    "# Temos então uma sintaxe mais exata, de forma que sirva para todos os casos e podemos também popular a coluna, como no caso anterior, com um valor definido ou então um conjunto, uma série ou outro da preferência\n",
    "nba.insert(loc=3, column=\"Used_Item\", value=\"Ball\")\n"
   ]
  },
  {
   "cell_type": "code",
   "execution_count": null,
   "id": "decd61b6-ad7c-4862-bf6f-d35017be53f9",
   "metadata": {},
   "outputs": [],
   "source": [
    "nba.head()"
   ]
  },
  {
   "cell_type": "code",
   "execution_count": null,
   "id": "964db4fe-194c-43d0-836a-88fd261bef20",
   "metadata": {},
   "outputs": [],
   "source": [
    "# Podemos também adicionar colunas a partir de cálculos ou operações processadas a martir delas, como uma multiplicação, porcentagem ou outro cálculo, cast, conversão, concatenação etc.\n",
    "nba[\"Salary\"] * 2 # SEMPRE LEMBRAR QUE NÁO USAMOS PONTO POR SER UM ATRIBUTO (OU PARTE) DO DATAFRAME, então não utilizamos nba. e sim nba[] para chamar\n",
    "nba[\"Salary\"].mul(2)\n",
    "nba[\"Salary\"].sub(5000000)\n",
    "\n",
    "# Combinando\n",
    "nba[\"Salary Doubled\"] = nba[\"Salary\"].mul(2)\n",
    "nba[\"Salary minus 50000\"] = nba[\"Salary\"].sub(5000000)\n"
   ]
  },
  {
   "cell_type": "code",
   "execution_count": null,
   "id": "0adba0cc-4a40-402e-b560-68324e40395b",
   "metadata": {},
   "outputs": [],
   "source": [
    "nba.head()"
   ]
  },
  {
   "cell_type": "markdown",
   "id": "d98d7a8c",
   "metadata": {},
   "source": [
    "## A Review of the value_counts Method\n",
    "- The `value_counts` method counts the number of times that each unique value occurs in a **Series**."
   ]
  },
  {
   "cell_type": "code",
   "execution_count": null,
   "id": "20b6a7fd-deb2-4095-a09f-3ab98aaed441",
   "metadata": {},
   "outputs": [],
   "source": [
    "nba = pd.read_csv(\"nba.csv\")\n",
    "nba.head()"
   ]
  },
  {
   "cell_type": "code",
   "execution_count": null,
   "id": "04702b40-777a-4da3-84d0-bc5709eb269d",
   "metadata": {},
   "outputs": [],
   "source": [
    "# Aqui temos um exemplo concreto do count que estamos habituados no SQL, agora em um dataframe\n",
    "# A partir da chamada, ele conta, assim como faríamos em SQL, a quantidade de vezes que cada valor apareceu na base\n",
    "# Podemos (E DEVEMOS) explorar as opções e propriedades para verificar as possibilidades como descendente, normalize (valor em porcentagem) dentre outros\n",
    "nba[\"Team\"].value_counts()\n",
    "nba[\"Team\"].value_counts(normalize=True)\n",
    "# Podemos também combinar as propriedades com novos métodos, broadcasts, operações e outros, o Python nos dá essa liberdade de combinar diferentes funções e métodos para compor o que queremos de forma mais simples, então podemos fazer isso para afunilar e para especificar ou trabalhar melhor com a seleção de dados que precisamos\n",
    "nba[\"Team\"].value_counts(normalize=True) * 100 # Aqui por exemplo, traxemos a porcentagem com normalize em decimal e tornamos ela em porcentagem como vemos, transformamos com uma simples fórmula a porcentagem e podemos transformar a visualização dela para o modelo %\n"
   ]
  },
  {
   "cell_type": "markdown",
   "id": "695a7ffa",
   "metadata": {},
   "source": [
    "## Drop Rows with Missing Values\n",
    "- Pandas uses a `NaN` designation for cells that have a missing value.\n",
    "- The `dropna` method deletes rows with missing values. Its default behavior is to remove a row if it has *any* missing values.\n",
    "- Pass the `how` parameter an argument of \"all\" to delete rows where all the values are `NaN`.\n",
    "- The `subset` parameters customizes/limits the columns that pandas will use to drop rows with missing values."
   ]
  },
  {
   "cell_type": "code",
   "execution_count": null,
   "id": "541d51d1-9c34-4b8a-b65a-b7f736b951f4",
   "metadata": {},
   "outputs": [],
   "source": [
    "nba = pd.read_csv(\"nba.csv\")\n",
    "nba.head()"
   ]
  },
  {
   "cell_type": "code",
   "execution_count": null,
   "id": "08ec7d63-8bcb-46f8-aa30-b2e04e93e8c3",
   "metadata": {},
   "outputs": [],
   "source": [
    "# Podemos fazer o drop de colunas específicas ou então colunas com valores NaN, que seria como um where null porém mais simples\n",
    "nba.dropna() #Lembrando que a não ser que utilizemos o símbolo de igualdade, o python irá apenas trazer uma visualização sem os dados vazios, sendo necessário atribuir para tornar aquele dataframe no método\n",
    "# Então sempre que utilizamos um método ou função, vamos criar uma visualização, um objeto a parte que faz relação com o primeiro caso alterado (com igualdade), contudo, caso queiramos atribuir ele ao dataframe, temos de utilizar a igualdade, pois será uma visualização até definirmos esta\n",
    "# Explorando o método (any exclui com qualquer item nulo, all com todos os itens nulos, por exemplo)\n",
    "nba.dropna(how=\"any\")\n",
    "nba.dropna(how=\"all\") # Aqui não existe um valor padrão, como podemos e DEVEMOS ver nos atributos para sempre ter em mente e saber as possibilidades do código, então podemos identificar, porém, mesmo sem padrão, irá se comportar como any, tem um comportamento semelhante mas podemos declarar\n",
    "nba.dropna(subset=\"College\")\n",
    "nba.dropna(subset=[\"College\", \"Salary\"]) # Lembrando que em múltiplas colunas, sempre que colocamos várias opções para métodos e funções, assim como uma lista, ele assume relação de or, não and, então se tiver em um ou no outro, vai excluir e isso se replica para listas ou múltiplos valores de métodos etc\n",
    "# Ou seja, o subset pode ser utilizado como uma limitação para exclusão de linhas nulas ou então em outros casos para trabalharmos com o método, função etc. apenas naquele conjunto, fazendo com que aquele subconjunto determine a operação e trabalhemos a partir dele"
   ]
  },
  {
   "cell_type": "markdown",
   "id": "8d33a3d7",
   "metadata": {},
   "source": [
    "## Fill in Missing Values with the fillna Method\n",
    "- The `fillna` method replaces missing `NaN` values with its argument.\n",
    "- The `fillna` method is available on both **DataFrames** and **Series**.\n",
    "- An extracted **Series** is a view on the original **DataFrame**, but the `fillna` method returns a copy."
   ]
  },
  {
   "cell_type": "code",
   "execution_count": null,
   "id": "6d087355-37b8-4348-a223-b0ae4435162e",
   "metadata": {},
   "outputs": [],
   "source": [
    "# Podemos preencher valores vazios com outros definidos por meio da sintaxe\n",
    "nba.fillna(0)\n",
    "\n",
    "# Podemos selecionar colunas específicas para preenchimento, já que podemos combinar algoritmos e combinar comandos, uma vez que também dataframe[\"coluna\"] seleciona a coluna\n",
    "nba[\"Salary\"].fillna(0)\n",
    "\n",
    "# Lembrando que neste caso criamos uma cópia e para alterar temos de utilizar a igualdade, uma vez que temos de referenciar o objeto e trazer a igualdade, senao criamos apenas uma instancia dele, entao podemos relacionar esta instancia\n",
    "nba[\"salary\"] = nba[\"Salary\"].fillna(0)\n",
    "nba"
   ]
  },
  {
   "cell_type": "code",
   "execution_count": null,
   "id": "74f0392f-eb9e-4306-82f6-862311030faa",
   "metadata": {},
   "outputs": [],
   "source": [
    "# Podemos entao tratar dados vazios de maneira mais simples, por exemplo, fazendo com que fiquem visivelmente mais agrupados, colocando um valor comum para analisarmos e computarmos nos dados\n",
    "nba[\"College\"] = nba[\"College\"].fillna(\"Unknown\")"
   ]
  },
  {
   "cell_type": "markdown",
   "id": "bc7be33b",
   "metadata": {},
   "source": [
    "## The astype Method I\n",
    "- The `astype` method converts a **Series's** values to a specified type.\n",
    "- Pass in the specified type as either a string or the core Python data type.\n",
    "- Pandas cannot convert `NaN` values to numeric types, so we need to eliminate/replace them before we perform the conversion.\n",
    "- The `dtypes` attribute returns a **Series** with the **DataFrame's** columns and their types."
   ]
  },
  {
   "cell_type": "code",
   "execution_count": null,
   "id": "38f6a68b-abb9-4e32-81b5-6402a2b25eba",
   "metadata": {},
   "outputs": [],
   "source": [
    "nba = pd.read_csv(\"nba.csv\")\n",
    "nba.head()"
   ]
  },
  {
   "cell_type": "code",
   "execution_count": null,
   "id": "9e3ac701-31cf-413b-8987-986c4e20c095",
   "metadata": {},
   "outputs": [],
   "source": [
    "# assim como no SQL, podemos fazer a conversao de valores\n",
    "# Caso a coluna possua valores vazios, ira converter automaticamente a coluna para floating, entao primeiro temos de eliminar os valores vazios\n",
    "nba[\"Salary\"] = nba[\"Salary\"].fillna(0)\n",
    "nba.dtypes # Para verificar os tipos e também para conversao utilizamos astype"
   ]
  },
  {
   "cell_type": "code",
   "execution_count": null,
   "id": "ece08955-111c-4a7f-8590-0ce5cd458359",
   "metadata": {},
   "outputs": [],
   "source": [
    "# Convertendo com as type\n",
    "nba[\"Salary\"] = nba[\"Salary\"].astype(int)\n",
    "nba"
   ]
  },
  {
   "cell_type": "code",
   "execution_count": null,
   "id": "7ec15d0f-5534-4d28-84b5-8475f37a6b19",
   "metadata": {},
   "outputs": [],
   "source": [
    "# Realizando o mesmo procedimento, lembrando que temos de antes tratar todos os NaN, pois o python nao consegue tratar, logo, ou temos de criar um código para ignorar as vazias ou entao preencher ou eliminar antes de converter\n",
    "nba[\"Weight\"] = nba[\"Weight\"].fillna(0)\n",
    "nba[\"Weight\"] = nba[\"Weight\"].astype(int)\n",
    "nba\n",
    "\n",
    "# Lembrando que sem a igualdade, teríamos apenas uma cópia ou instancia"
   ]
  },
  {
   "cell_type": "markdown",
   "id": "3f6381c2",
   "metadata": {},
   "source": [
    "## The astype Method II\n",
    "- The `category` type is ideal for columns with a limited number of unique values.\n",
    "- The `nunique` method will return a **Series** with the number of unique values in each column.\n",
    "- With categories, pandas does not create a separate value in memory for each \"cell\". Rather, the cells point to a single copy for each unique value."
   ]
  },
  {
   "cell_type": "code",
   "execution_count": null,
   "id": "e8017ea4-a4b9-4068-a0f7-ed86f51fc51f",
   "metadata": {},
   "outputs": [],
   "source": [
    "nba = pd.read_csv(\"nba.csv\")\n",
    "nba.head()"
   ]
  },
  {
   "cell_type": "code",
   "execution_count": null,
   "id": "153dcfe2-77c5-44f7-8b9a-60b50fd78626",
   "metadata": {},
   "outputs": [],
   "source": [
    "#Utilizado para cenários onde temos vários valores se repetindo, funcionando como um index das celulas na memoria, fazendo com que seja consumida menos memoria, afinal, ele aponta para um unico lugar com os valores, nao para diferentes lugares na memoria para cada valor, fazemos isso para valores pouco diversificados e categóricos, de modo que se agrupem em um lugar da memoria e fique mais leve no consumo, pois nao diferenciam na memoria varias \"caixas\" e sim apenas uma, o que nao funcionaria para maiores valores por ficar inviavel ou inadequado por serem valores diversos e a consulta exigir quase o mesmo processamento ou memoria\n",
    "#Podemos também utilizar o nunique para descrever valores distintos no dataframe, assim como fazemos com o distinct do SQL\n",
    "nba.nunique() #Geral, é um método entao para metodos e funcoes utilizamos os parenteses, logo, temos de nos atentar e sempre utilizar para estes tipos a fim de funcionar\n",
    "nba[\"Salary\"].nunique() #Em nível de série"
   ]
  },
  {
   "cell_type": "code",
   "execution_count": null,
   "id": "59b034e0-5fd8-458a-b43c-e9074bb02e29",
   "metadata": {},
   "outputs": [],
   "source": [
    "#Faremos com os times comparando entao o tamanho anterior para o atual (comparar com nba.info(), lembrando que é UM TIPO DE DADOS definido como \"category\" sendo assim, vai ser convertido para um tipo especifico no formato citado a fim de economizar memoria\n",
    "nba[\"Team\"] = nba[\"Team\"].astype(\"category\")\n",
    "nba.info()"
   ]
  },
  {
   "cell_type": "markdown",
   "id": "8c9851d8",
   "metadata": {},
   "source": [
    "## Sort a DataFrame with the sort_values Method I\n",
    "- The `sort_values` method sorts a **DataFrame** by the values in one or more columns. The default sort is an ascending one (alphabetical for strings).\n",
    "- The first parameter (`by`) expects the column(s) to sort by.\n",
    "- If sorting by a single column, pass a string with its name.\n",
    "- The `ascending` parameter customizes the sort order.\n",
    "- The `na_position` parameter customizes where pandas places `NaN` values."
   ]
  },
  {
   "cell_type": "code",
   "execution_count": null,
   "id": "8cdda111-6a2d-43a1-b098-8dbefe3fbe57",
   "metadata": {},
   "outputs": [],
   "source": [
    "nba = pd.read_csv(\"nba.csv\")\n",
    "nba.head()"
   ]
  },
  {
   "cell_type": "code",
   "execution_count": null,
   "id": "4f9a8e76-6d45-456a-b7ee-da279ca4b846",
   "metadata": {},
   "outputs": [],
   "source": [
    "# Podemos organizar as colunas de acordo com ordens, assim como no SQL e como visto anteriormente\n",
    "# Claro que não podemos dar um sort geral, mas sim especificando colunas, já que é obrigatório e nao existe sem este parametro (logicamente)\n",
    "nba.sort_values(\"Name\")\n",
    "\n",
    "#Analisando os atributos, que SEMPRE devemos ver e definindo, lembrando que aqui o descendente é definido inserindo False no ascending\n",
    "nba.sort_values(by = \"Name\", ascending = False)\n",
    "nba.sort_values(by = \"Salary\", ascending = True)\n",
    "\n",
    "# Podemos inclusive, vendo os atributos, definir os NaN primeiro ou após a ordenacao\n",
    "nba.sort_values(by = \"Salary\", ascending = False, na_position = \"first\") # Nas demonstracoes dos atributos, podemos verificar como aquele atributo é inserido, ou seja, booleano, string, inteiro. Ou seja, como tem de ser definido"
   ]
  },
  {
   "cell_type": "markdown",
   "id": "086886da",
   "metadata": {},
   "source": [
    "## Sort a DataFrame with the sort_values Method II\n",
    "- To sort by multiple columns, pass the `by` parameter a list of column names. Pandas will sort in the specified column order (first to last).\n",
    "- Pass the `ascending` parameter a Boolean to sort all columns in a consistent order (all ascending or all descending).\n",
    "- Pass `ascending` a list to customize the sort order *per* column. The `ascending` list length must match the `by` list."
   ]
  },
  {
   "cell_type": "code",
   "execution_count": null,
   "id": "b666d298-1fee-4372-8775-91353dd0caa6",
   "metadata": {
    "tags": []
   },
   "outputs": [],
   "source": [
    "nba = pd.read_csv(\"nba.csv\")\n",
    "nba.head()"
   ]
  },
  {
   "cell_type": "code",
   "execution_count": null,
   "id": "0b36fe62-5e9b-483c-9709-00bc47982ddb",
   "metadata": {},
   "outputs": [],
   "source": [
    "# Para filtrarmos múltiplas colunas, assim como para outros métodos onde podemos passar diferentes valores que não sejam intervalos ou dados em específico, vamos passar uma lista\n",
    "nba.sort_values([\"Team\", \"Name\"])  # A ordem importa pois vai definir qual a coluna filtrada primeiro, então dentro de team ordenado, pesquisamos name ordenado\n",
    "nba.sort_values([\"Team\", \"Name\"], ascending=False) # Podemos também configurar o sentido da ordem, sendo que ele pertencerá a todas as colunas\n",
    "nba.sort_values([\"Team\", \"Name\"], ascending=[True, False]) # Podemos então configurar diferentes parâmetros para cada item da lista dentro dos métodos, o que se aplica para outros que vimos anteriormente. Caso queiramos então definir atributos para cada item da lista, podemos passar uma outra lista com o mesmo número de valores para cada item\n",
    "nba.sort_values(by=[\"Position\", \"Salary\"], ascending=[True, False])"
   ]
  },
  {
   "cell_type": "markdown",
   "id": "0439e26b",
   "metadata": {},
   "source": [
    "## Sort a DataFrame by its Index\n",
    "- The `sort_index` method sorts the **DataFrame** by its index positions/labels."
   ]
  },
  {
   "cell_type": "code",
   "execution_count": 8,
   "id": "da2a2d40-9c78-499a-a0cf-42750443ea54",
   "metadata": {},
   "outputs": [
    {
     "data": {
      "text/html": [
       "<div>\n",
       "<style scoped>\n",
       "    .dataframe tbody tr th:only-of-type {\n",
       "        vertical-align: middle;\n",
       "    }\n",
       "\n",
       "    .dataframe tbody tr th {\n",
       "        vertical-align: top;\n",
       "    }\n",
       "\n",
       "    .dataframe thead th {\n",
       "        text-align: right;\n",
       "    }\n",
       "</style>\n",
       "<table border=\"1\" class=\"dataframe\">\n",
       "  <thead>\n",
       "    <tr style=\"text-align: right;\">\n",
       "      <th></th>\n",
       "      <th>Name</th>\n",
       "      <th>Team</th>\n",
       "      <th>Position</th>\n",
       "      <th>Height</th>\n",
       "      <th>Weight</th>\n",
       "      <th>College</th>\n",
       "      <th>Salary</th>\n",
       "    </tr>\n",
       "  </thead>\n",
       "  <tbody>\n",
       "    <tr>\n",
       "      <th>0</th>\n",
       "      <td>Saddiq Bey</td>\n",
       "      <td>Atlanta Hawks</td>\n",
       "      <td>F</td>\n",
       "      <td>6-7</td>\n",
       "      <td>215.0</td>\n",
       "      <td>Villanova</td>\n",
       "      <td>4556983.0</td>\n",
       "    </tr>\n",
       "    <tr>\n",
       "      <th>1</th>\n",
       "      <td>Bogdan Bogdanovic</td>\n",
       "      <td>Atlanta Hawks</td>\n",
       "      <td>G</td>\n",
       "      <td>6-5</td>\n",
       "      <td>225.0</td>\n",
       "      <td>Fenerbahce</td>\n",
       "      <td>18700000.0</td>\n",
       "    </tr>\n",
       "    <tr>\n",
       "      <th>2</th>\n",
       "      <td>Kobe Bufkin</td>\n",
       "      <td>Atlanta Hawks</td>\n",
       "      <td>G</td>\n",
       "      <td>6-5</td>\n",
       "      <td>195.0</td>\n",
       "      <td>Michigan</td>\n",
       "      <td>4094244.0</td>\n",
       "    </tr>\n",
       "    <tr>\n",
       "      <th>3</th>\n",
       "      <td>Clint Capela</td>\n",
       "      <td>Atlanta Hawks</td>\n",
       "      <td>C</td>\n",
       "      <td>6-10</td>\n",
       "      <td>256.0</td>\n",
       "      <td>Elan Chalon</td>\n",
       "      <td>20616000.0</td>\n",
       "    </tr>\n",
       "    <tr>\n",
       "      <th>4</th>\n",
       "      <td>Bruno Fernando</td>\n",
       "      <td>Atlanta Hawks</td>\n",
       "      <td>F-C</td>\n",
       "      <td>6-10</td>\n",
       "      <td>240.0</td>\n",
       "      <td>Maryland</td>\n",
       "      <td>2581522.0</td>\n",
       "    </tr>\n",
       "  </tbody>\n",
       "</table>\n",
       "</div>"
      ],
      "text/plain": [
       "                Name           Team Position Height  Weight      College  \\\n",
       "0         Saddiq Bey  Atlanta Hawks        F    6-7   215.0    Villanova   \n",
       "1  Bogdan Bogdanovic  Atlanta Hawks        G    6-5   225.0   Fenerbahce   \n",
       "2        Kobe Bufkin  Atlanta Hawks        G    6-5   195.0     Michigan   \n",
       "3       Clint Capela  Atlanta Hawks        C   6-10   256.0  Elan Chalon   \n",
       "4     Bruno Fernando  Atlanta Hawks      F-C   6-10   240.0     Maryland   \n",
       "\n",
       "       Salary  \n",
       "0   4556983.0  \n",
       "1  18700000.0  \n",
       "2   4094244.0  \n",
       "3  20616000.0  \n",
       "4   2581522.0  "
      ]
     },
     "execution_count": 8,
     "metadata": {},
     "output_type": "execute_result"
    }
   ],
   "source": [
    "nba = pd.read_csv(\"nba.csv\")\n",
    "nba.head()"
   ]
  },
  {
   "cell_type": "code",
   "execution_count": 13,
   "id": "b429f999-e4fc-4c1e-84ba-167da47ed5eb",
   "metadata": {},
   "outputs": [
    {
     "data": {
      "text/html": [
       "<div>\n",
       "<style scoped>\n",
       "    .dataframe tbody tr th:only-of-type {\n",
       "        vertical-align: middle;\n",
       "    }\n",
       "\n",
       "    .dataframe tbody tr th {\n",
       "        vertical-align: top;\n",
       "    }\n",
       "\n",
       "    .dataframe thead th {\n",
       "        text-align: right;\n",
       "    }\n",
       "</style>\n",
       "<table border=\"1\" class=\"dataframe\">\n",
       "  <thead>\n",
       "    <tr style=\"text-align: right;\">\n",
       "      <th></th>\n",
       "      <th>Name</th>\n",
       "      <th>Team</th>\n",
       "      <th>Position</th>\n",
       "      <th>Height</th>\n",
       "      <th>Weight</th>\n",
       "      <th>College</th>\n",
       "      <th>Salary</th>\n",
       "    </tr>\n",
       "  </thead>\n",
       "  <tbody>\n",
       "    <tr>\n",
       "      <th>0</th>\n",
       "      <td>Saddiq Bey</td>\n",
       "      <td>Atlanta Hawks</td>\n",
       "      <td>F</td>\n",
       "      <td>6-7</td>\n",
       "      <td>215.0</td>\n",
       "      <td>Villanova</td>\n",
       "      <td>4556983.0</td>\n",
       "    </tr>\n",
       "    <tr>\n",
       "      <th>1</th>\n",
       "      <td>Bogdan Bogdanovic</td>\n",
       "      <td>Atlanta Hawks</td>\n",
       "      <td>G</td>\n",
       "      <td>6-5</td>\n",
       "      <td>225.0</td>\n",
       "      <td>Fenerbahce</td>\n",
       "      <td>18700000.0</td>\n",
       "    </tr>\n",
       "    <tr>\n",
       "      <th>2</th>\n",
       "      <td>Kobe Bufkin</td>\n",
       "      <td>Atlanta Hawks</td>\n",
       "      <td>G</td>\n",
       "      <td>6-5</td>\n",
       "      <td>195.0</td>\n",
       "      <td>Michigan</td>\n",
       "      <td>4094244.0</td>\n",
       "    </tr>\n",
       "    <tr>\n",
       "      <th>3</th>\n",
       "      <td>Clint Capela</td>\n",
       "      <td>Atlanta Hawks</td>\n",
       "      <td>C</td>\n",
       "      <td>6-10</td>\n",
       "      <td>256.0</td>\n",
       "      <td>Elan Chalon</td>\n",
       "      <td>20616000.0</td>\n",
       "    </tr>\n",
       "    <tr>\n",
       "      <th>4</th>\n",
       "      <td>Bruno Fernando</td>\n",
       "      <td>Atlanta Hawks</td>\n",
       "      <td>F-C</td>\n",
       "      <td>6-10</td>\n",
       "      <td>240.0</td>\n",
       "      <td>Maryland</td>\n",
       "      <td>2581522.0</td>\n",
       "    </tr>\n",
       "    <tr>\n",
       "      <th>...</th>\n",
       "      <td>...</td>\n",
       "      <td>...</td>\n",
       "      <td>...</td>\n",
       "      <td>...</td>\n",
       "      <td>...</td>\n",
       "      <td>...</td>\n",
       "      <td>...</td>\n",
       "    </tr>\n",
       "    <tr>\n",
       "      <th>587</th>\n",
       "      <td>Ryan Rollins</td>\n",
       "      <td>Washington Wizards</td>\n",
       "      <td>G</td>\n",
       "      <td>6-3</td>\n",
       "      <td>180.0</td>\n",
       "      <td>Toledo</td>\n",
       "      <td>1719864.0</td>\n",
       "    </tr>\n",
       "    <tr>\n",
       "      <th>588</th>\n",
       "      <td>Landry Shamet</td>\n",
       "      <td>Washington Wizards</td>\n",
       "      <td>G</td>\n",
       "      <td>6-4</td>\n",
       "      <td>190.0</td>\n",
       "      <td>Wichita State</td>\n",
       "      <td>10250000.0</td>\n",
       "    </tr>\n",
       "    <tr>\n",
       "      <th>589</th>\n",
       "      <td>Tristan Vukcevic</td>\n",
       "      <td>Washington Wizards</td>\n",
       "      <td>F</td>\n",
       "      <td>6-10</td>\n",
       "      <td>220.0</td>\n",
       "      <td>Real Madrid</td>\n",
       "      <td>NaN</td>\n",
       "    </tr>\n",
       "    <tr>\n",
       "      <th>590</th>\n",
       "      <td>Delon Wright</td>\n",
       "      <td>Washington Wizards</td>\n",
       "      <td>G</td>\n",
       "      <td>6-5</td>\n",
       "      <td>185.0</td>\n",
       "      <td>Utah</td>\n",
       "      <td>8195122.0</td>\n",
       "    </tr>\n",
       "    <tr>\n",
       "      <th>591</th>\n",
       "      <td>NaN</td>\n",
       "      <td>NaN</td>\n",
       "      <td>NaN</td>\n",
       "      <td>NaN</td>\n",
       "      <td>NaN</td>\n",
       "      <td>NaN</td>\n",
       "      <td>NaN</td>\n",
       "    </tr>\n",
       "  </tbody>\n",
       "</table>\n",
       "<p>592 rows × 7 columns</p>\n",
       "</div>"
      ],
      "text/plain": [
       "                  Name                Team Position Height  Weight  \\\n",
       "0           Saddiq Bey       Atlanta Hawks        F    6-7   215.0   \n",
       "1    Bogdan Bogdanovic       Atlanta Hawks        G    6-5   225.0   \n",
       "2          Kobe Bufkin       Atlanta Hawks        G    6-5   195.0   \n",
       "3         Clint Capela       Atlanta Hawks        C   6-10   256.0   \n",
       "4       Bruno Fernando       Atlanta Hawks      F-C   6-10   240.0   \n",
       "..                 ...                 ...      ...    ...     ...   \n",
       "587       Ryan Rollins  Washington Wizards        G    6-3   180.0   \n",
       "588      Landry Shamet  Washington Wizards        G    6-4   190.0   \n",
       "589   Tristan Vukcevic  Washington Wizards        F   6-10   220.0   \n",
       "590       Delon Wright  Washington Wizards        G    6-5   185.0   \n",
       "591                NaN                 NaN      NaN    NaN     NaN   \n",
       "\n",
       "           College      Salary  \n",
       "0        Villanova   4556983.0  \n",
       "1       Fenerbahce  18700000.0  \n",
       "2         Michigan   4094244.0  \n",
       "3      Elan Chalon  20616000.0  \n",
       "4         Maryland   2581522.0  \n",
       "..             ...         ...  \n",
       "587         Toledo   1719864.0  \n",
       "588  Wichita State  10250000.0  \n",
       "589    Real Madrid         NaN  \n",
       "590           Utah   8195122.0  \n",
       "591            NaN         NaN  \n",
       "\n",
       "[592 rows x 7 columns]"
      ]
     },
     "execution_count": 13,
     "metadata": {},
     "output_type": "execute_result"
    }
   ],
   "source": [
    "# Supondo que queremos retornar uma ordem de index que antes existia em nossa variável, ou então queremos organizar os index\n",
    "# Além disso, pode ser utilizado para momentos onde fizemos a organização por valores e queremos desfazer, já que a organização por valores ordena sem mudar o index, afinal, cada valor tem o seu index e quando ordena esses index ficam ordenados de acordo com os valores e com os dados apresentados\n",
    "nba = nba.sort_values(\"Team\") # Ordenados, então como o index é separado por valor, é ordenado também\n",
    "nba = nba.sort_index(ascending=True) # Volta ao normal\n",
    "nba"
   ]
  },
  {
   "cell_type": "markdown",
   "id": "093e0239",
   "metadata": {},
   "source": [
    "## Rank Values with the rank Method\n",
    "- The `rank` method assigns a numeric ranking to each **Series** value.\n",
    "- Pandas will assign the same rank to equal values and create a \"gap\" in the dataset for the ranks."
   ]
  },
  {
   "cell_type": "code",
   "execution_count": 14,
   "id": "8765d174",
   "metadata": {},
   "outputs": [
    {
     "data": {
      "text/html": [
       "<div>\n",
       "<style scoped>\n",
       "    .dataframe tbody tr th:only-of-type {\n",
       "        vertical-align: middle;\n",
       "    }\n",
       "\n",
       "    .dataframe tbody tr th {\n",
       "        vertical-align: top;\n",
       "    }\n",
       "\n",
       "    .dataframe thead th {\n",
       "        text-align: right;\n",
       "    }\n",
       "</style>\n",
       "<table border=\"1\" class=\"dataframe\">\n",
       "  <thead>\n",
       "    <tr style=\"text-align: right;\">\n",
       "      <th></th>\n",
       "      <th>Name</th>\n",
       "      <th>Team</th>\n",
       "      <th>Position</th>\n",
       "      <th>Height</th>\n",
       "      <th>Weight</th>\n",
       "      <th>College</th>\n",
       "      <th>Salary</th>\n",
       "    </tr>\n",
       "  </thead>\n",
       "  <tbody>\n",
       "    <tr>\n",
       "      <th>0</th>\n",
       "      <td>Saddiq Bey</td>\n",
       "      <td>Atlanta Hawks</td>\n",
       "      <td>F</td>\n",
       "      <td>6-7</td>\n",
       "      <td>215.0</td>\n",
       "      <td>Villanova</td>\n",
       "      <td>4556983.0</td>\n",
       "    </tr>\n",
       "    <tr>\n",
       "      <th>1</th>\n",
       "      <td>Bogdan Bogdanovic</td>\n",
       "      <td>Atlanta Hawks</td>\n",
       "      <td>G</td>\n",
       "      <td>6-5</td>\n",
       "      <td>225.0</td>\n",
       "      <td>Fenerbahce</td>\n",
       "      <td>18700000.0</td>\n",
       "    </tr>\n",
       "    <tr>\n",
       "      <th>2</th>\n",
       "      <td>Kobe Bufkin</td>\n",
       "      <td>Atlanta Hawks</td>\n",
       "      <td>G</td>\n",
       "      <td>6-5</td>\n",
       "      <td>195.0</td>\n",
       "      <td>Michigan</td>\n",
       "      <td>4094244.0</td>\n",
       "    </tr>\n",
       "    <tr>\n",
       "      <th>3</th>\n",
       "      <td>Clint Capela</td>\n",
       "      <td>Atlanta Hawks</td>\n",
       "      <td>C</td>\n",
       "      <td>6-10</td>\n",
       "      <td>256.0</td>\n",
       "      <td>Elan Chalon</td>\n",
       "      <td>20616000.0</td>\n",
       "    </tr>\n",
       "    <tr>\n",
       "      <th>4</th>\n",
       "      <td>Bruno Fernando</td>\n",
       "      <td>Atlanta Hawks</td>\n",
       "      <td>F-C</td>\n",
       "      <td>6-10</td>\n",
       "      <td>240.0</td>\n",
       "      <td>Maryland</td>\n",
       "      <td>2581522.0</td>\n",
       "    </tr>\n",
       "  </tbody>\n",
       "</table>\n",
       "</div>"
      ],
      "text/plain": [
       "                Name           Team Position Height  Weight      College  \\\n",
       "0         Saddiq Bey  Atlanta Hawks        F    6-7   215.0    Villanova   \n",
       "1  Bogdan Bogdanovic  Atlanta Hawks        G    6-5   225.0   Fenerbahce   \n",
       "2        Kobe Bufkin  Atlanta Hawks        G    6-5   195.0     Michigan   \n",
       "3       Clint Capela  Atlanta Hawks        C   6-10   256.0  Elan Chalon   \n",
       "4     Bruno Fernando  Atlanta Hawks      F-C   6-10   240.0     Maryland   \n",
       "\n",
       "       Salary  \n",
       "0   4556983.0  \n",
       "1  18700000.0  \n",
       "2   4094244.0  \n",
       "3  20616000.0  \n",
       "4   2581522.0  "
      ]
     },
     "execution_count": 14,
     "metadata": {},
     "output_type": "execute_result"
    }
   ],
   "source": [
    "nba = pd.read_csv(\"nba.csv\")\n",
    "nba.head()"
   ]
  },
  {
   "cell_type": "code",
   "execution_count": 22,
   "id": "dcdb7a22-55d9-45cc-a919-83957bf52823",
   "metadata": {},
   "outputs": [
    {
     "data": {
      "text/html": [
       "<div>\n",
       "<style scoped>\n",
       "    .dataframe tbody tr th:only-of-type {\n",
       "        vertical-align: middle;\n",
       "    }\n",
       "\n",
       "    .dataframe tbody tr th {\n",
       "        vertical-align: top;\n",
       "    }\n",
       "\n",
       "    .dataframe thead th {\n",
       "        text-align: right;\n",
       "    }\n",
       "</style>\n",
       "<table border=\"1\" class=\"dataframe\">\n",
       "  <thead>\n",
       "    <tr style=\"text-align: right;\">\n",
       "      <th></th>\n",
       "      <th>Name</th>\n",
       "      <th>Team</th>\n",
       "      <th>Position</th>\n",
       "      <th>Height</th>\n",
       "      <th>Weight</th>\n",
       "      <th>College</th>\n",
       "      <th>Salary</th>\n",
       "      <th>Salary_Rank</th>\n",
       "    </tr>\n",
       "  </thead>\n",
       "  <tbody>\n",
       "    <tr>\n",
       "      <th>0</th>\n",
       "      <td>Saddiq Bey</td>\n",
       "      <td>Atlanta Hawks</td>\n",
       "      <td>F</td>\n",
       "      <td>6-7</td>\n",
       "      <td>215.0</td>\n",
       "      <td>Villanova</td>\n",
       "      <td>4556983</td>\n",
       "      <td>231</td>\n",
       "    </tr>\n",
       "    <tr>\n",
       "      <th>1</th>\n",
       "      <td>Bogdan Bogdanovic</td>\n",
       "      <td>Atlanta Hawks</td>\n",
       "      <td>G</td>\n",
       "      <td>6-5</td>\n",
       "      <td>225.0</td>\n",
       "      <td>Fenerbahce</td>\n",
       "      <td>18700000</td>\n",
       "      <td>80</td>\n",
       "    </tr>\n",
       "    <tr>\n",
       "      <th>2</th>\n",
       "      <td>Kobe Bufkin</td>\n",
       "      <td>Atlanta Hawks</td>\n",
       "      <td>G</td>\n",
       "      <td>6-5</td>\n",
       "      <td>195.0</td>\n",
       "      <td>Michigan</td>\n",
       "      <td>4094244</td>\n",
       "      <td>243</td>\n",
       "    </tr>\n",
       "    <tr>\n",
       "      <th>3</th>\n",
       "      <td>Clint Capela</td>\n",
       "      <td>Atlanta Hawks</td>\n",
       "      <td>C</td>\n",
       "      <td>6-10</td>\n",
       "      <td>256.0</td>\n",
       "      <td>Elan Chalon</td>\n",
       "      <td>20616000</td>\n",
       "      <td>69</td>\n",
       "    </tr>\n",
       "    <tr>\n",
       "      <th>4</th>\n",
       "      <td>Bruno Fernando</td>\n",
       "      <td>Atlanta Hawks</td>\n",
       "      <td>F-C</td>\n",
       "      <td>6-10</td>\n",
       "      <td>240.0</td>\n",
       "      <td>Maryland</td>\n",
       "      <td>2581522</td>\n",
       "      <td>308</td>\n",
       "    </tr>\n",
       "    <tr>\n",
       "      <th>...</th>\n",
       "      <td>...</td>\n",
       "      <td>...</td>\n",
       "      <td>...</td>\n",
       "      <td>...</td>\n",
       "      <td>...</td>\n",
       "      <td>...</td>\n",
       "      <td>...</td>\n",
       "      <td>...</td>\n",
       "    </tr>\n",
       "    <tr>\n",
       "      <th>587</th>\n",
       "      <td>Ryan Rollins</td>\n",
       "      <td>Washington Wizards</td>\n",
       "      <td>G</td>\n",
       "      <td>6-3</td>\n",
       "      <td>180.0</td>\n",
       "      <td>Toledo</td>\n",
       "      <td>1719864</td>\n",
       "      <td>394</td>\n",
       "    </tr>\n",
       "    <tr>\n",
       "      <th>588</th>\n",
       "      <td>Landry Shamet</td>\n",
       "      <td>Washington Wizards</td>\n",
       "      <td>G</td>\n",
       "      <td>6-4</td>\n",
       "      <td>190.0</td>\n",
       "      <td>Wichita State</td>\n",
       "      <td>10250000</td>\n",
       "      <td>140</td>\n",
       "    </tr>\n",
       "    <tr>\n",
       "      <th>589</th>\n",
       "      <td>Tristan Vukcevic</td>\n",
       "      <td>Washington Wizards</td>\n",
       "      <td>F</td>\n",
       "      <td>6-10</td>\n",
       "      <td>220.0</td>\n",
       "      <td>Real Madrid</td>\n",
       "      <td>0</td>\n",
       "      <td>540</td>\n",
       "    </tr>\n",
       "    <tr>\n",
       "      <th>590</th>\n",
       "      <td>Delon Wright</td>\n",
       "      <td>Washington Wizards</td>\n",
       "      <td>G</td>\n",
       "      <td>6-5</td>\n",
       "      <td>185.0</td>\n",
       "      <td>Utah</td>\n",
       "      <td>8195122</td>\n",
       "      <td>163</td>\n",
       "    </tr>\n",
       "    <tr>\n",
       "      <th>591</th>\n",
       "      <td>NaN</td>\n",
       "      <td>NaN</td>\n",
       "      <td>NaN</td>\n",
       "      <td>NaN</td>\n",
       "      <td>NaN</td>\n",
       "      <td>NaN</td>\n",
       "      <td>0</td>\n",
       "      <td>540</td>\n",
       "    </tr>\n",
       "  </tbody>\n",
       "</table>\n",
       "<p>592 rows × 8 columns</p>\n",
       "</div>"
      ],
      "text/plain": [
       "                  Name                Team Position Height  Weight  \\\n",
       "0           Saddiq Bey       Atlanta Hawks        F    6-7   215.0   \n",
       "1    Bogdan Bogdanovic       Atlanta Hawks        G    6-5   225.0   \n",
       "2          Kobe Bufkin       Atlanta Hawks        G    6-5   195.0   \n",
       "3         Clint Capela       Atlanta Hawks        C   6-10   256.0   \n",
       "4       Bruno Fernando       Atlanta Hawks      F-C   6-10   240.0   \n",
       "..                 ...                 ...      ...    ...     ...   \n",
       "587       Ryan Rollins  Washington Wizards        G    6-3   180.0   \n",
       "588      Landry Shamet  Washington Wizards        G    6-4   190.0   \n",
       "589   Tristan Vukcevic  Washington Wizards        F   6-10   220.0   \n",
       "590       Delon Wright  Washington Wizards        G    6-5   185.0   \n",
       "591                NaN                 NaN      NaN    NaN     NaN   \n",
       "\n",
       "           College    Salary  Salary_Rank  \n",
       "0        Villanova   4556983          231  \n",
       "1       Fenerbahce  18700000           80  \n",
       "2         Michigan   4094244          243  \n",
       "3      Elan Chalon  20616000           69  \n",
       "4         Maryland   2581522          308  \n",
       "..             ...       ...          ...  \n",
       "587         Toledo   1719864          394  \n",
       "588  Wichita State  10250000          140  \n",
       "589    Real Madrid         0          540  \n",
       "590           Utah   8195122          163  \n",
       "591            NaN         0          540  \n",
       "\n",
       "[592 rows x 8 columns]"
      ]
     },
     "execution_count": 22,
     "metadata": {},
     "output_type": "execute_result"
    }
   ],
   "source": [
    "#Podemos limitar especificamente igual como fazemos em sql, porém, com um unico comando\n",
    "# Para utilizar o conceito, é necessário que não existam valores nulos na coluna, além de que podemos otimizar (com números inteiros no exemplo)\n",
    "# Podemos também encadear diferentes métodos para limpeza de dados, fazendo com que trabalhem juntos, sempre observando a ordem lógica e colocando de acordo com o sentido da operação, por exemplo, primeiro selecionamos, depois limpamos e depois convertemos\n",
    "nba[\"Salary\"] = nba[\"Salary\"].fillna(0).astype(int) # Não faria sentido ao contrário pois poderíamos dar o fill com um número flutuante (um exemplo), então ele voltaria a ser flutuante, assim trabalhamos nos valores para depois trabalhar na formatação\n",
    "nba[\"Salary\"].rank(ascending=False).astype(int) # Vemos que é apresentado index e a posição daquele valor, é legal notar que o ascending vai colocar os valores maiores no topo do ranking (1), então se a posição 1 começa a contar do menor ou se a posição 1 começa a contar do maior, que é o que queremos como um descending\n",
    "\n",
    "# Podemos então atribuir este código a uma nova coluna, uma vez que já está organizado e os index batem, afinal, ele apenas fala em qual posição está o index 1, 2 etc. estando batendo com o dataframe, pois não mudará posições, então podemos atribuir (neste caso, observar cada um e suas especificidades) direto à tabela\n",
    "nba[\"Salary_Rank\"] = nba[\"Salary\"].rank(ascending=False).astype(int)\n",
    "nba\n",
    "\n",
    "# Caso queiramos, ainda podemos concatenar, lembrando que temos de fazer o broadcast pois não conseguimos concatenar em nível de tabela, ele pegaria todos os valores, então temos de tratar valor por valor assim como no sql (com o código) e para isso, que vai analisar o valor e concatenar, por exemplo, temos o aplly (oara funções que vão rodar toda a tabela), afinal, queremos que ele rode a tabela inteira e faça isso para cada um e todos os valores. *Verificar se há outro modo de apenas definir a string e juntar em todas as linhas ou apenas dar um comando na seleção da coluna e concatenar de modo direto para igual no SQL, senão, continuar conforme vídeo\n",
    "# https://www.youtube.com/watch?v=ID2i-G-HtbA"
   ]
  },
  {
   "cell_type": "code",
   "execution_count": 32,
   "id": "bbf0e745-976d-4a51-8780-c33e01470991",
   "metadata": {},
   "outputs": [
    {
     "ename": "AttributeError",
     "evalue": "'Series' object has no attribute 'concat'",
     "output_type": "error",
     "traceback": [
      "\u001b[1;31m---------------------------------------------------------------------------\u001b[0m",
      "\u001b[1;31mAttributeError\u001b[0m                            Traceback (most recent call last)",
      "\u001b[1;32m~\\AppData\\Local\\Temp\\ipykernel_11064\\1013227095.py\u001b[0m in \u001b[0;36m?\u001b[1;34m()\u001b[0m\n\u001b[1;32m----> 1\u001b[1;33m \u001b[0mnba\u001b[0m\u001b[1;33m[\u001b[0m\u001b[1;34m\"Salary\"\u001b[0m\u001b[1;33m]\u001b[0m\u001b[1;33m.\u001b[0m\u001b[0mrank\u001b[0m\u001b[1;33m(\u001b[0m\u001b[0mascending\u001b[0m\u001b[1;33m=\u001b[0m\u001b[1;32mFalse\u001b[0m\u001b[1;33m)\u001b[0m\u001b[1;33m.\u001b[0m\u001b[0mastype\u001b[0m\u001b[1;33m(\u001b[0m\u001b[0mint\u001b[0m\u001b[1;33m)\u001b[0m\u001b[1;33m.\u001b[0m\u001b[0mconcat\u001b[0m\u001b[1;33m(\u001b[0m\u001b[1;33m)\u001b[0m\u001b[1;33m\u001b[0m\u001b[1;33m\u001b[0m\u001b[0m\n\u001b[0m",
      "\u001b[1;32m~\\anaconda3\\Lib\\site-packages\\pandas\\core\\generic.py\u001b[0m in \u001b[0;36m?\u001b[1;34m(self, name)\u001b[0m\n\u001b[0;32m   5985\u001b[0m             \u001b[1;32mand\u001b[0m \u001b[0mname\u001b[0m \u001b[1;32mnot\u001b[0m \u001b[1;32min\u001b[0m \u001b[0mself\u001b[0m\u001b[1;33m.\u001b[0m\u001b[0m_accessors\u001b[0m\u001b[1;33m\u001b[0m\u001b[1;33m\u001b[0m\u001b[0m\n\u001b[0;32m   5986\u001b[0m             \u001b[1;32mand\u001b[0m \u001b[0mself\u001b[0m\u001b[1;33m.\u001b[0m\u001b[0m_info_axis\u001b[0m\u001b[1;33m.\u001b[0m\u001b[0m_can_hold_identifiers_and_holds_name\u001b[0m\u001b[1;33m(\u001b[0m\u001b[0mname\u001b[0m\u001b[1;33m)\u001b[0m\u001b[1;33m\u001b[0m\u001b[1;33m\u001b[0m\u001b[0m\n\u001b[0;32m   5987\u001b[0m         ):\n\u001b[0;32m   5988\u001b[0m             \u001b[1;32mreturn\u001b[0m \u001b[0mself\u001b[0m\u001b[1;33m[\u001b[0m\u001b[0mname\u001b[0m\u001b[1;33m]\u001b[0m\u001b[1;33m\u001b[0m\u001b[1;33m\u001b[0m\u001b[0m\n\u001b[1;32m-> 5989\u001b[1;33m         \u001b[1;32mreturn\u001b[0m \u001b[0mobject\u001b[0m\u001b[1;33m.\u001b[0m\u001b[0m__getattribute__\u001b[0m\u001b[1;33m(\u001b[0m\u001b[0mself\u001b[0m\u001b[1;33m,\u001b[0m \u001b[0mname\u001b[0m\u001b[1;33m)\u001b[0m\u001b[1;33m\u001b[0m\u001b[1;33m\u001b[0m\u001b[0m\n\u001b[0m",
      "\u001b[1;31mAttributeError\u001b[0m: 'Series' object has no attribute 'concat'"
     ]
    }
   ],
   "source": [
    "nba[\"Salary\"].rank(ascending=False).astype(int)"
   ]
  },
  {
   "cell_type": "code",
   "execution_count": 34,
   "id": "f4118c87-2691-4662-96ff-513a626eaa32",
   "metadata": {},
   "outputs": [
    {
     "ename": "TypeError",
     "evalue": "first argument must be an iterable of pandas objects, you passed an object of type \"str\"",
     "output_type": "error",
     "traceback": [
      "\u001b[1;31m---------------------------------------------------------------------------\u001b[0m",
      "\u001b[1;31mTypeError\u001b[0m                                 Traceback (most recent call last)",
      "Cell \u001b[1;32mIn[34], line 1\u001b[0m\n\u001b[1;32m----> 1\u001b[0m pd\u001b[38;5;241m.\u001b[39mconcat(\u001b[38;5;124m\"\u001b[39m\u001b[38;5;124mk\u001b[39m\u001b[38;5;124m\"\u001b[39m)\n",
      "File \u001b[1;32m~\\anaconda3\\Lib\\site-packages\\pandas\\core\\reshape\\concat.py:372\u001b[0m, in \u001b[0;36mconcat\u001b[1;34m(objs, axis, join, ignore_index, keys, levels, names, verify_integrity, sort, copy)\u001b[0m\n\u001b[0;32m    369\u001b[0m \u001b[38;5;28;01melif\u001b[39;00m copy \u001b[38;5;129;01mand\u001b[39;00m using_copy_on_write():\n\u001b[0;32m    370\u001b[0m     copy \u001b[38;5;241m=\u001b[39m \u001b[38;5;28;01mFalse\u001b[39;00m\n\u001b[1;32m--> 372\u001b[0m op \u001b[38;5;241m=\u001b[39m _Concatenator(\n\u001b[0;32m    373\u001b[0m     objs,\n\u001b[0;32m    374\u001b[0m     axis\u001b[38;5;241m=\u001b[39maxis,\n\u001b[0;32m    375\u001b[0m     ignore_index\u001b[38;5;241m=\u001b[39mignore_index,\n\u001b[0;32m    376\u001b[0m     join\u001b[38;5;241m=\u001b[39mjoin,\n\u001b[0;32m    377\u001b[0m     keys\u001b[38;5;241m=\u001b[39mkeys,\n\u001b[0;32m    378\u001b[0m     levels\u001b[38;5;241m=\u001b[39mlevels,\n\u001b[0;32m    379\u001b[0m     names\u001b[38;5;241m=\u001b[39mnames,\n\u001b[0;32m    380\u001b[0m     verify_integrity\u001b[38;5;241m=\u001b[39mverify_integrity,\n\u001b[0;32m    381\u001b[0m     copy\u001b[38;5;241m=\u001b[39mcopy,\n\u001b[0;32m    382\u001b[0m     sort\u001b[38;5;241m=\u001b[39msort,\n\u001b[0;32m    383\u001b[0m )\n\u001b[0;32m    385\u001b[0m \u001b[38;5;28;01mreturn\u001b[39;00m op\u001b[38;5;241m.\u001b[39mget_result()\n",
      "File \u001b[1;32m~\\anaconda3\\Lib\\site-packages\\pandas\\core\\reshape\\concat.py:407\u001b[0m, in \u001b[0;36m_Concatenator.__init__\u001b[1;34m(self, objs, axis, join, keys, levels, names, ignore_index, verify_integrity, copy, sort)\u001b[0m\n\u001b[0;32m    393\u001b[0m \u001b[38;5;28;01mdef\u001b[39;00m \u001b[38;5;21m__init__\u001b[39m(\n\u001b[0;32m    394\u001b[0m     \u001b[38;5;28mself\u001b[39m,\n\u001b[0;32m    395\u001b[0m     objs: Iterable[NDFrame] \u001b[38;5;241m|\u001b[39m Mapping[HashableT, NDFrame],\n\u001b[1;32m   (...)\u001b[0m\n\u001b[0;32m    404\u001b[0m     sort: \u001b[38;5;28mbool\u001b[39m \u001b[38;5;241m=\u001b[39m \u001b[38;5;28;01mFalse\u001b[39;00m,\n\u001b[0;32m    405\u001b[0m ) \u001b[38;5;241m-\u001b[39m\u001b[38;5;241m>\u001b[39m \u001b[38;5;28;01mNone\u001b[39;00m:\n\u001b[0;32m    406\u001b[0m     \u001b[38;5;28;01mif\u001b[39;00m \u001b[38;5;28misinstance\u001b[39m(objs, (ABCSeries, ABCDataFrame, \u001b[38;5;28mstr\u001b[39m)):\n\u001b[1;32m--> 407\u001b[0m         \u001b[38;5;28;01mraise\u001b[39;00m \u001b[38;5;167;01mTypeError\u001b[39;00m(\n\u001b[0;32m    408\u001b[0m             \u001b[38;5;124m\"\u001b[39m\u001b[38;5;124mfirst argument must be an iterable of pandas \u001b[39m\u001b[38;5;124m\"\u001b[39m\n\u001b[0;32m    409\u001b[0m             \u001b[38;5;124mf\u001b[39m\u001b[38;5;124m'\u001b[39m\u001b[38;5;124mobjects, you passed an object of type \u001b[39m\u001b[38;5;124m\"\u001b[39m\u001b[38;5;132;01m{\u001b[39;00m\u001b[38;5;28mtype\u001b[39m(objs)\u001b[38;5;241m.\u001b[39m\u001b[38;5;18m__name__\u001b[39m\u001b[38;5;132;01m}\u001b[39;00m\u001b[38;5;124m\"\u001b[39m\u001b[38;5;124m'\u001b[39m\n\u001b[0;32m    410\u001b[0m         )\n\u001b[0;32m    412\u001b[0m     \u001b[38;5;28;01mif\u001b[39;00m join \u001b[38;5;241m==\u001b[39m \u001b[38;5;124m\"\u001b[39m\u001b[38;5;124mouter\u001b[39m\u001b[38;5;124m\"\u001b[39m:\n\u001b[0;32m    413\u001b[0m         \u001b[38;5;28mself\u001b[39m\u001b[38;5;241m.\u001b[39mintersect \u001b[38;5;241m=\u001b[39m \u001b[38;5;28;01mFalse\u001b[39;00m\n",
      "\u001b[1;31mTypeError\u001b[0m: first argument must be an iterable of pandas objects, you passed an object of type \"str\""
     ]
    }
   ],
   "source": [
    "pd.concat(\"k\")"
   ]
  },
  {
   "cell_type": "code",
   "execution_count": null,
   "id": "b0f520ff-71ed-4924-8479-dba05a5a5782",
   "metadata": {},
   "outputs": [],
   "source": []
  },
  {
   "cell_type": "code",
   "execution_count": null,
   "id": "2811a88c",
   "metadata": {},
   "outputs": [],
   "source": []
  }
 ],
 "metadata": {
  "kernelspec": {
   "display_name": "Python 3 (ipykernel)",
   "language": "python",
   "name": "python3"
  },
  "language_info": {
   "codemirror_mode": {
    "name": "ipython",
    "version": 3
   },
   "file_extension": ".py",
   "mimetype": "text/x-python",
   "name": "python",
   "nbconvert_exporter": "python",
   "pygments_lexer": "ipython3",
   "version": "3.11.5"
  }
 },
 "nbformat": 4,
 "nbformat_minor": 5
}
