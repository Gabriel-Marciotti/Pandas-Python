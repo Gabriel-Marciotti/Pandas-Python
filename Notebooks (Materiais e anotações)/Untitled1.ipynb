{
 "cells": [
  {
   "cell_type": "code",
   "execution_count": 11,
   "id": "0f5ca3c7-2764-45f9-baf1-90b7b534b9f7",
   "metadata": {
    "tags": []
   },
   "outputs": [
    {
     "data": {
      "text/plain": [
       "Winner\n",
       "Joey Chestnut        14\n",
       "Takeru Kobayashi      6\n",
       "Mike DeVito           4\n",
       "Hirofumi Nakajima     3\n",
       "Unknown               2\n",
       "Jay Green             2\n",
       "Frankie Dellarosa     2\n",
       "Ed Krachie            2\n",
       "Thomas DeBerry        1\n",
       "Melody Andorfer       1\n",
       "Jason Schechter       1\n",
       "John Connolly         1\n",
       "Roberto Muriel        1\n",
       "Lonnie Brown          1\n",
       "Manel Hollenback      1\n",
       "Jim Mattner           1\n",
       "Joe Baldini           1\n",
       "Birgit Felden         1\n",
       "Steven Abrams         1\n",
       "Emil Gomez            1\n",
       "Matt Stonie           1\n",
       "Oscar Rodriguez       1\n",
       "Hiroaki Tominaga      1\n",
       "Mark Heller           1\n",
       "Don Wolfman           1\n",
       "Steve Keiner          1\n",
       "Kazutoyo Arai         1\n",
       "Walter Paul           1\n",
       "Name: count, dtype: int64"
      ]
     },
     "execution_count": 11,
     "metadata": {},
     "output_type": "execute_result"
    }
   ],
   "source": [
    "import pandas as pd\n",
    "hot_dogs = pd.Series(pd.read_csv(\"hot_dogs.csv\", usecols=[\"Winner\"]).squeeze(\"columns\"))\n",
    "hot_dogs.value_counts()"
   ]
  },
  {
   "cell_type": "code",
   "execution_count": 8,
   "id": "01882ee8-522c-4ed1-b836-40de6762f8cb",
   "metadata": {
    "tags": []
   },
   "outputs": [],
   "source": [
    "names_and_wins = pd.Series((hot_dogs.value_counts()), index = hot_dogs)"
   ]
  },
  {
   "cell_type": "code",
   "execution_count": 9,
   "id": "e156e295-a190-4689-848c-f4b1b518a2cc",
   "metadata": {
    "tags": []
   },
   "outputs": [
    {
     "data": {
      "text/plain": [
       "Winner\n",
       "Joey Chestnut        14\n",
       "Joey Chestnut        14\n",
       "Joey Chestnut        14\n",
       "Joey Chestnut        14\n",
       "Joey Chestnut        14\n",
       "Joey Chestnut        14\n",
       "Matt Stonie           1\n",
       "Joey Chestnut        14\n",
       "Joey Chestnut        14\n",
       "Joey Chestnut        14\n",
       "Joey Chestnut        14\n",
       "Joey Chestnut        14\n",
       "Joey Chestnut        14\n",
       "Joey Chestnut        14\n",
       "Joey Chestnut        14\n",
       "Takeru Kobayashi      6\n",
       "Takeru Kobayashi      6\n",
       "Takeru Kobayashi      6\n",
       "Takeru Kobayashi      6\n",
       "Takeru Kobayashi      6\n",
       "Takeru Kobayashi      6\n",
       "Kazutoyo Arai         1\n",
       "Steve Keiner          1\n",
       "Hirofumi Nakajima     3\n",
       "Hirofumi Nakajima     3\n",
       "Hirofumi Nakajima     3\n",
       "Ed Krachie            2\n",
       "Ed Krachie            2\n",
       "Mike DeVito           4\n",
       "Mike DeVito           4\n",
       "Mike DeVito           4\n",
       "Frankie Dellarosa     2\n",
       "Frankie Dellarosa     2\n",
       "Mike DeVito           4\n",
       "Jay Green             2\n",
       "Jay Green             2\n",
       "Don Wolfman           1\n",
       "Mark Heller           1\n",
       "Hiroaki Tominaga      1\n",
       "Oscar Rodriguez       1\n",
       "Birgit Felden         1\n",
       "Emil Gomez            1\n",
       "Steven Abrams         1\n",
       "Thomas DeBerry        1\n",
       "Joe Baldini           1\n",
       "Jim Mattner           1\n",
       "Manel Hollenback      1\n",
       "Lonnie Brown          1\n",
       "Roberto Muriel        1\n",
       "John Connolly         1\n",
       "Unknown               2\n",
       "Unknown               2\n",
       "Melody Andorfer       1\n",
       "Jason Schechter       1\n",
       "Walter Paul           1\n",
       "Name: count, dtype: int64"
      ]
     },
     "execution_count": 9,
     "metadata": {},
     "output_type": "execute_result"
    }
   ],
   "source": [
    "names_and_wins"
   ]
  },
  {
   "cell_type": "code",
   "execution_count": null,
   "id": "38f1323a-3fc5-4272-a102-b36471e63010",
   "metadata": {},
   "outputs": [],
   "source": []
  }
 ],
 "metadata": {
  "kernelspec": {
   "display_name": "Python 3 (ipykernel)",
   "language": "python",
   "name": "python3"
  },
  "language_info": {
   "codemirror_mode": {
    "name": "ipython",
    "version": 3
   },
   "file_extension": ".py",
   "mimetype": "text/x-python",
   "name": "python",
   "nbconvert_exporter": "python",
   "pygments_lexer": "ipython3",
   "version": "3.11.5"
  }
 },
 "nbformat": 4,
 "nbformat_minor": 5
}
